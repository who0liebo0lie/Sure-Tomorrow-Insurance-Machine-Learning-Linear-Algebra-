{
 "cells": [
  {
   "cell_type": "markdown",
   "metadata": {},
   "source": [
    "# Sure Tomorrow (Machine Learning Linear Algebra)"
   ]
  },
  {
   "cell_type": "markdown",
   "metadata": {},
   "source": [
    "The Sure Tomorrow insurance company provides a file for use of a project (file /datasets/insurance_us.csv).  Once data is loaded it will be checked for issues (there is no missing data, extreme values, and so on).  Listed below are tasks to be solved using Machine Learning. \n",
    "\n",
    "Features: insured person's gender, age, salary, and number of family members.\n",
    "Target: number of insurance benefits received by an insured person over the last five years.\n"
   ]
  },
  {
   "cell_type": "markdown",
   "metadata": {},
   "source": [
    "# Statement"
   ]
  },
  {
   "cell_type": "markdown",
   "metadata": {},
   "source": [
    "The Sure Tomorrow insurance company wants to solve several tasks with the help of Machine Learning and you are asked to evaluate that possibility.\n",
    "\n",
    "- Task 1: Find customers who are similar to a given customer. This will help the company's agents with marketing.\n",
    "- Task 2: Predict whether a new customer is likely to receive an insurance benefit. Can a prediction model do better than a dummy model?\n",
    "- Task 3: Predict the number of insurance benefits a new customer is likely to receive using a linear regression model.\n",
    "- Task 4: Protect clients' personal data without breaking the model from the previous task. It's necessary to develop a data transformation algorithm that would make it hard to recover personal information if the data fell into the wrong hands. This is called data masking, or data obfuscation. But the data should be protected in such a way that the quality of machine learning models doesn't suffer. You don't need to pick the best model, just prove that the algorithm works correctly."
   ]
  },
  {
   "cell_type": "markdown",
   "metadata": {},
   "source": [
    "# Data Preprocessing & Exploration\n",
    "\n",
    "## Initialization"
   ]
  },
  {
   "cell_type": "code",
   "execution_count": 1,
   "metadata": {},
   "outputs": [],
   "source": [
    "import numpy as np\n",
    "import pandas as pd\n",
    "import math\n",
    "\n",
    "#import named regression models \n",
    "from sklearn.linear_model import LinearRegression\n",
    "\n",
    "import seaborn as sns\n",
    "\n",
    "import sklearn.linear_model\n",
    "import sklearn.metrics\n",
    "import sklearn.neighbors\n",
    "import sklearn.preprocessing\n",
    "\n",
    "from sklearn.neighbors import NearestNeighbors\n",
    "from sklearn.neighbors import KNeighborsClassifier\n",
    "\n",
    "from sklearn.model_selection import train_test_split\n",
    "from sklearn.metrics import mean_squared_error, r2_score\n",
    "from sklearn.metrics import f1_score\n",
    "\n",
    "\n",
    "from IPython.display import display\n",
    "\n",
    "from sklearn.preprocessing import StandardScaler\n",
    "\n",
    "\n"
   ]
  },
  {
   "cell_type": "markdown",
   "metadata": {},
   "source": [
    "## Load Data"
   ]
  },
  {
   "cell_type": "markdown",
   "metadata": {},
   "source": [
    "Load data and conduct a basic check that it's free from obvious issues."
   ]
  },
  {
   "cell_type": "code",
   "execution_count": 2,
   "metadata": {},
   "outputs": [],
   "source": [
    "df = pd.read_csv('/datasets/insurance_us.csv')"
   ]
  },
  {
   "cell_type": "markdown",
   "metadata": {},
   "source": [
    "We rename the colums to make the code look more consistent with its style."
   ]
  },
  {
   "cell_type": "code",
   "execution_count": 3,
   "metadata": {},
   "outputs": [],
   "source": [
    "df = df.rename(columns={'Gender': 'gender', 'Age': 'age', 'Salary': 'income', 'Family members': 'family_members', 'Insurance benefits': 'insurance_benefits'})"
   ]
  },
  {
   "cell_type": "code",
   "execution_count": 4,
   "metadata": {},
   "outputs": [
    {
     "data": {
      "text/html": [
       "<div>\n",
       "<style scoped>\n",
       "    .dataframe tbody tr th:only-of-type {\n",
       "        vertical-align: middle;\n",
       "    }\n",
       "\n",
       "    .dataframe tbody tr th {\n",
       "        vertical-align: top;\n",
       "    }\n",
       "\n",
       "    .dataframe thead th {\n",
       "        text-align: right;\n",
       "    }\n",
       "</style>\n",
       "<table border=\"1\" class=\"dataframe\">\n",
       "  <thead>\n",
       "    <tr style=\"text-align: right;\">\n",
       "      <th></th>\n",
       "      <th>gender</th>\n",
       "      <th>age</th>\n",
       "      <th>income</th>\n",
       "      <th>family_members</th>\n",
       "      <th>insurance_benefits</th>\n",
       "    </tr>\n",
       "  </thead>\n",
       "  <tbody>\n",
       "    <tr>\n",
       "      <th>3689</th>\n",
       "      <td>1</td>\n",
       "      <td>37.0</td>\n",
       "      <td>52000.0</td>\n",
       "      <td>1</td>\n",
       "      <td>0</td>\n",
       "    </tr>\n",
       "    <tr>\n",
       "      <th>79</th>\n",
       "      <td>1</td>\n",
       "      <td>29.0</td>\n",
       "      <td>52500.0</td>\n",
       "      <td>3</td>\n",
       "      <td>0</td>\n",
       "    </tr>\n",
       "    <tr>\n",
       "      <th>4911</th>\n",
       "      <td>1</td>\n",
       "      <td>22.0</td>\n",
       "      <td>32800.0</td>\n",
       "      <td>2</td>\n",
       "      <td>0</td>\n",
       "    </tr>\n",
       "    <tr>\n",
       "      <th>1526</th>\n",
       "      <td>0</td>\n",
       "      <td>19.0</td>\n",
       "      <td>45800.0</td>\n",
       "      <td>1</td>\n",
       "      <td>0</td>\n",
       "    </tr>\n",
       "    <tr>\n",
       "      <th>85</th>\n",
       "      <td>0</td>\n",
       "      <td>25.0</td>\n",
       "      <td>47400.0</td>\n",
       "      <td>2</td>\n",
       "      <td>0</td>\n",
       "    </tr>\n",
       "    <tr>\n",
       "      <th>343</th>\n",
       "      <td>0</td>\n",
       "      <td>25.0</td>\n",
       "      <td>54900.0</td>\n",
       "      <td>1</td>\n",
       "      <td>0</td>\n",
       "    </tr>\n",
       "    <tr>\n",
       "      <th>1026</th>\n",
       "      <td>0</td>\n",
       "      <td>34.0</td>\n",
       "      <td>39800.0</td>\n",
       "      <td>2</td>\n",
       "      <td>0</td>\n",
       "    </tr>\n",
       "    <tr>\n",
       "      <th>599</th>\n",
       "      <td>0</td>\n",
       "      <td>20.0</td>\n",
       "      <td>22200.0</td>\n",
       "      <td>0</td>\n",
       "      <td>0</td>\n",
       "    </tr>\n",
       "    <tr>\n",
       "      <th>2219</th>\n",
       "      <td>1</td>\n",
       "      <td>21.0</td>\n",
       "      <td>39300.0</td>\n",
       "      <td>1</td>\n",
       "      <td>0</td>\n",
       "    </tr>\n",
       "    <tr>\n",
       "      <th>3092</th>\n",
       "      <td>1</td>\n",
       "      <td>38.0</td>\n",
       "      <td>46500.0</td>\n",
       "      <td>0</td>\n",
       "      <td>0</td>\n",
       "    </tr>\n",
       "  </tbody>\n",
       "</table>\n",
       "</div>"
      ],
      "text/plain": [
       "      gender   age   income  family_members  insurance_benefits\n",
       "3689       1  37.0  52000.0               1                   0\n",
       "79         1  29.0  52500.0               3                   0\n",
       "4911       1  22.0  32800.0               2                   0\n",
       "1526       0  19.0  45800.0               1                   0\n",
       "85         0  25.0  47400.0               2                   0\n",
       "343        0  25.0  54900.0               1                   0\n",
       "1026       0  34.0  39800.0               2                   0\n",
       "599        0  20.0  22200.0               0                   0\n",
       "2219       1  21.0  39300.0               1                   0\n",
       "3092       1  38.0  46500.0               0                   0"
      ]
     },
     "execution_count": 4,
     "metadata": {},
     "output_type": "execute_result"
    }
   ],
   "source": [
    "df.sample(10)"
   ]
  },
  {
   "cell_type": "code",
   "execution_count": 5,
   "metadata": {},
   "outputs": [
    {
     "name": "stdout",
     "output_type": "stream",
     "text": [
      "<class 'pandas.core.frame.DataFrame'>\n",
      "RangeIndex: 5000 entries, 0 to 4999\n",
      "Data columns (total 5 columns):\n",
      " #   Column              Non-Null Count  Dtype  \n",
      "---  ------              --------------  -----  \n",
      " 0   gender              5000 non-null   int64  \n",
      " 1   age                 5000 non-null   float64\n",
      " 2   income              5000 non-null   float64\n",
      " 3   family_members      5000 non-null   int64  \n",
      " 4   insurance_benefits  5000 non-null   int64  \n",
      "dtypes: float64(2), int64(3)\n",
      "memory usage: 195.4 KB\n"
     ]
    }
   ],
   "source": [
    "df.info()"
   ]
  },
  {
   "cell_type": "code",
   "execution_count": 6,
   "metadata": {},
   "outputs": [],
   "source": [
    "# we may want to fix the age type (from float to int) though this is not critical\n",
    "df['age']=df['age'].astype(int)\n"
   ]
  },
  {
   "cell_type": "code",
   "execution_count": 7,
   "metadata": {},
   "outputs": [
    {
     "name": "stdout",
     "output_type": "stream",
     "text": [
      "<class 'pandas.core.frame.DataFrame'>\n",
      "RangeIndex: 5000 entries, 0 to 4999\n",
      "Data columns (total 5 columns):\n",
      " #   Column              Non-Null Count  Dtype  \n",
      "---  ------              --------------  -----  \n",
      " 0   gender              5000 non-null   int64  \n",
      " 1   age                 5000 non-null   int64  \n",
      " 2   income              5000 non-null   float64\n",
      " 3   family_members      5000 non-null   int64  \n",
      " 4   insurance_benefits  5000 non-null   int64  \n",
      "dtypes: float64(1), int64(4)\n",
      "memory usage: 195.4 KB\n"
     ]
    }
   ],
   "source": [
    "# check to see that the conversion was successful\n",
    "df.info()"
   ]
  },
  {
   "cell_type": "code",
   "execution_count": 8,
   "metadata": {},
   "outputs": [
    {
     "data": {
      "text/plain": [
       "gender                0\n",
       "age                   0\n",
       "income                0\n",
       "family_members        0\n",
       "insurance_benefits    0\n",
       "dtype: int64"
      ]
     },
     "execution_count": 8,
     "metadata": {},
     "output_type": "execute_result"
    }
   ],
   "source": [
    "# now have a look at the data's descriptive statistics. \n",
    "df.isna().sum()\n"
   ]
  },
  {
   "cell_type": "code",
   "execution_count": 9,
   "metadata": {},
   "outputs": [
    {
     "data": {
      "text/plain": [
       "gender                0\n",
       "age                   0\n",
       "income                0\n",
       "family_members        0\n",
       "insurance_benefits    0\n",
       "dtype: int64"
      ]
     },
     "execution_count": 9,
     "metadata": {},
     "output_type": "execute_result"
    }
   ],
   "source": [
    "df.isnull().sum()\n"
   ]
  },
  {
   "cell_type": "code",
   "execution_count": 10,
   "metadata": {},
   "outputs": [
    {
     "data": {
      "text/html": [
       "<div>\n",
       "<style scoped>\n",
       "    .dataframe tbody tr th:only-of-type {\n",
       "        vertical-align: middle;\n",
       "    }\n",
       "\n",
       "    .dataframe tbody tr th {\n",
       "        vertical-align: top;\n",
       "    }\n",
       "\n",
       "    .dataframe thead th {\n",
       "        text-align: right;\n",
       "    }\n",
       "</style>\n",
       "<table border=\"1\" class=\"dataframe\">\n",
       "  <thead>\n",
       "    <tr style=\"text-align: right;\">\n",
       "      <th></th>\n",
       "      <th>gender</th>\n",
       "      <th>age</th>\n",
       "      <th>income</th>\n",
       "      <th>family_members</th>\n",
       "      <th>insurance_benefits</th>\n",
       "    </tr>\n",
       "  </thead>\n",
       "  <tbody>\n",
       "    <tr>\n",
       "      <th>count</th>\n",
       "      <td>5000.000000</td>\n",
       "      <td>5000.000000</td>\n",
       "      <td>5000.000000</td>\n",
       "      <td>5000.000000</td>\n",
       "      <td>5000.000000</td>\n",
       "    </tr>\n",
       "    <tr>\n",
       "      <th>mean</th>\n",
       "      <td>0.499000</td>\n",
       "      <td>30.952800</td>\n",
       "      <td>39916.360000</td>\n",
       "      <td>1.194200</td>\n",
       "      <td>0.148000</td>\n",
       "    </tr>\n",
       "    <tr>\n",
       "      <th>std</th>\n",
       "      <td>0.500049</td>\n",
       "      <td>8.440807</td>\n",
       "      <td>9900.083569</td>\n",
       "      <td>1.091387</td>\n",
       "      <td>0.463183</td>\n",
       "    </tr>\n",
       "    <tr>\n",
       "      <th>min</th>\n",
       "      <td>0.000000</td>\n",
       "      <td>18.000000</td>\n",
       "      <td>5300.000000</td>\n",
       "      <td>0.000000</td>\n",
       "      <td>0.000000</td>\n",
       "    </tr>\n",
       "    <tr>\n",
       "      <th>25%</th>\n",
       "      <td>0.000000</td>\n",
       "      <td>24.000000</td>\n",
       "      <td>33300.000000</td>\n",
       "      <td>0.000000</td>\n",
       "      <td>0.000000</td>\n",
       "    </tr>\n",
       "    <tr>\n",
       "      <th>50%</th>\n",
       "      <td>0.000000</td>\n",
       "      <td>30.000000</td>\n",
       "      <td>40200.000000</td>\n",
       "      <td>1.000000</td>\n",
       "      <td>0.000000</td>\n",
       "    </tr>\n",
       "    <tr>\n",
       "      <th>75%</th>\n",
       "      <td>1.000000</td>\n",
       "      <td>37.000000</td>\n",
       "      <td>46600.000000</td>\n",
       "      <td>2.000000</td>\n",
       "      <td>0.000000</td>\n",
       "    </tr>\n",
       "    <tr>\n",
       "      <th>max</th>\n",
       "      <td>1.000000</td>\n",
       "      <td>65.000000</td>\n",
       "      <td>79000.000000</td>\n",
       "      <td>6.000000</td>\n",
       "      <td>5.000000</td>\n",
       "    </tr>\n",
       "  </tbody>\n",
       "</table>\n",
       "</div>"
      ],
      "text/plain": [
       "            gender          age        income  family_members  \\\n",
       "count  5000.000000  5000.000000   5000.000000     5000.000000   \n",
       "mean      0.499000    30.952800  39916.360000        1.194200   \n",
       "std       0.500049     8.440807   9900.083569        1.091387   \n",
       "min       0.000000    18.000000   5300.000000        0.000000   \n",
       "25%       0.000000    24.000000  33300.000000        0.000000   \n",
       "50%       0.000000    30.000000  40200.000000        1.000000   \n",
       "75%       1.000000    37.000000  46600.000000        2.000000   \n",
       "max       1.000000    65.000000  79000.000000        6.000000   \n",
       "\n",
       "       insurance_benefits  \n",
       "count         5000.000000  \n",
       "mean             0.148000  \n",
       "std              0.463183  \n",
       "min              0.000000  \n",
       "25%              0.000000  \n",
       "50%              0.000000  \n",
       "75%              0.000000  \n",
       "max              5.000000  "
      ]
     },
     "execution_count": 10,
     "metadata": {},
     "output_type": "execute_result"
    }
   ],
   "source": [
    "df.describe()"
   ]
  },
  {
   "cell_type": "markdown",
   "metadata": {},
   "source": [
    "Count shows that there is no missing features (which we realized from checking above). Noticable that the youngest age is 8.44. "
   ]
  },
  {
   "cell_type": "markdown",
   "metadata": {},
   "source": [
    "## EDA"
   ]
  },
  {
   "cell_type": "markdown",
   "metadata": {},
   "source": [
    "Let's quickly check whether there are certain groups of customers by looking at the pair plot."
   ]
  },
  {
   "cell_type": "code",
   "execution_count": 11,
   "metadata": {},
   "outputs": [
    {
     "data": {
      "image/png": "[encoded data removed]",
      "text/plain": [
       "<Figure size 1200x1200 with 30 Axes>"
      ]
     },
     "metadata": {},
     "output_type": "display_data"
    }
   ],
   "source": [
    "g = sns.pairplot(df, kind='hist')\n",
    "g.fig.set_size_inches(12, 12)"
   ]
  },
  {
   "cell_type": "markdown",
   "metadata": {},
   "source": [
    "It is difficult to spot obvious groups (clusters) as it is difficult to combine several variables simultaneously (to analyze multivariate distributions). "
   ]
  },
  {
   "cell_type": "markdown",
   "metadata": {},
   "source": [
    "# Task 1. Similar Customers"
   ]
  },
  {
   "cell_type": "markdown",
   "metadata": {},
   "source": [
    "Develop a procedure that returns k nearest neighbors (objects) for a given object based on the distance between the objects."
   ]
  },
  {
   "cell_type": "markdown",
   "metadata": {},
   "source": [
    "Write function that returns k nearest neighbors for an $n^{th}$ object based on a specified distance metric. The number of received insurance benefits should not be taken into account for this task. \n",
    "\n",
    "Implementation of the kNN algorithm from scikit-learn (check [the link](https://scikit-learn.org/stable/modules/generated/sklearn.neighbors.NearestNeighbors.html#sklearn.neighbors.NearestNeighbors)) or use your own.\n",
    "\n",
    "Test it for four combination of two cases\n",
    "- Scaling\n",
    "  - the data is not scaled\n",
    "  - the data is scaled with the [MaxAbsScaler](https://scikit-learn.org/stable/modules/generated/sklearn.preprocessing.MaxAbsScaler.html) scaler\n",
    "- Distance Metrics\n",
    "  - Euclidean\n",
    "  - Manhattan\n"
   ]
  },
  {
   "cell_type": "code",
   "execution_count": 12,
   "metadata": {},
   "outputs": [],
   "source": [
    "feature_names = ['gender', 'age', 'income', 'family_members']"
   ]
  },
  {
   "cell_type": "code",
   "execution_count": 13,
   "metadata": {},
   "outputs": [],
   "source": [
    "def get_knn(df, n, k, metric):\n",
    "    \n",
    "    \"\"\"\n",
    "    Returns k nearest neighbors\n",
    "\n",
    "    :param df: pandas DataFrame used to find similar objects within\n",
    "    :param n: object no for which the nearest neighbours are looked for\n",
    "    :param k: the number of the nearest neighbours to return\n",
    "    :param metric: name of distance metric\n",
    "    \"\"\"\n",
    "    # Instantiate the NearestNeighbors object with k, metric\n",
    "    nbrs = NearestNeighbors(n_neighbors=k, metric=metric)\n",
    "    \n",
    "    # Fit the model with the DataFrame excluding the target/index n\n",
    "    nbrs.fit(df[feature_names])\n",
    "    nbrs_distances, nbrs_indices = nbrs.kneighbors([df.iloc[n][feature_names]], k, return_distance=True)\n",
    "    \n",
    "    df_res = pd.concat([\n",
    "        df.iloc[nbrs_indices[0]], \n",
    "        pd.DataFrame(nbrs_distances.T, index=nbrs_indices[0], columns=['distance'])\n",
    "        ], axis=1)\n",
    "    \n",
    "    return df_res"
   ]
  },
  {
   "cell_type": "markdown",
   "metadata": {},
   "source": [
    "Scaling the data."
   ]
  },
  {
   "cell_type": "code",
   "execution_count": 14,
   "metadata": {},
   "outputs": [],
   "source": [
    "feature_names = ['gender', 'age', 'income', 'family_members']\n",
    "\n",
    "transformer_mas = sklearn.preprocessing.MaxAbsScaler().fit(df[feature_names].to_numpy())\n",
    "\n",
    "df_scaled = df.copy()\n",
    "df_scaled.loc[:, feature_names] = transformer_mas.transform(df[feature_names].to_numpy())"
   ]
  },
  {
   "cell_type": "code",
   "execution_count": 15,
   "metadata": {},
   "outputs": [
    {
     "data": {
      "text/html": [
       "<div>\n",
       "<style scoped>\n",
       "    .dataframe tbody tr th:only-of-type {\n",
       "        vertical-align: middle;\n",
       "    }\n",
       "\n",
       "    .dataframe tbody tr th {\n",
       "        vertical-align: top;\n",
       "    }\n",
       "\n",
       "    .dataframe thead th {\n",
       "        text-align: right;\n",
       "    }\n",
       "</style>\n",
       "<table border=\"1\" class=\"dataframe\">\n",
       "  <thead>\n",
       "    <tr style=\"text-align: right;\">\n",
       "      <th></th>\n",
       "      <th>gender</th>\n",
       "      <th>age</th>\n",
       "      <th>income</th>\n",
       "      <th>family_members</th>\n",
       "      <th>insurance_benefits</th>\n",
       "    </tr>\n",
       "  </thead>\n",
       "  <tbody>\n",
       "    <tr>\n",
       "      <th>4593</th>\n",
       "      <td>1.0</td>\n",
       "      <td>0.338462</td>\n",
       "      <td>0.793671</td>\n",
       "      <td>0.166667</td>\n",
       "      <td>0</td>\n",
       "    </tr>\n",
       "    <tr>\n",
       "      <th>2773</th>\n",
       "      <td>1.0</td>\n",
       "      <td>0.369231</td>\n",
       "      <td>0.330380</td>\n",
       "      <td>0.333333</td>\n",
       "      <td>0</td>\n",
       "    </tr>\n",
       "    <tr>\n",
       "      <th>3160</th>\n",
       "      <td>1.0</td>\n",
       "      <td>0.323077</td>\n",
       "      <td>0.550633</td>\n",
       "      <td>0.166667</td>\n",
       "      <td>0</td>\n",
       "    </tr>\n",
       "    <tr>\n",
       "      <th>406</th>\n",
       "      <td>1.0</td>\n",
       "      <td>0.553846</td>\n",
       "      <td>0.522785</td>\n",
       "      <td>0.000000</td>\n",
       "      <td>0</td>\n",
       "    </tr>\n",
       "    <tr>\n",
       "      <th>4826</th>\n",
       "      <td>0.0</td>\n",
       "      <td>0.400000</td>\n",
       "      <td>0.515190</td>\n",
       "      <td>0.333333</td>\n",
       "      <td>0</td>\n",
       "    </tr>\n",
       "  </tbody>\n",
       "</table>\n",
       "</div>"
      ],
      "text/plain": [
       "      gender       age    income  family_members  insurance_benefits\n",
       "4593     1.0  0.338462  0.793671        0.166667                   0\n",
       "2773     1.0  0.369231  0.330380        0.333333                   0\n",
       "3160     1.0  0.323077  0.550633        0.166667                   0\n",
       "406      1.0  0.553846  0.522785        0.000000                   0\n",
       "4826     0.0  0.400000  0.515190        0.333333                   0"
      ]
     },
     "execution_count": 15,
     "metadata": {},
     "output_type": "execute_result"
    }
   ],
   "source": [
    "df_scaled.sample(5)"
   ]
  },
  {
   "cell_type": "markdown",
   "metadata": {},
   "source": [
    "Now, let's get similar records for a given one for every combination"
   ]
  },
  {
   "cell_type": "code",
   "execution_count": 16,
   "metadata": {},
   "outputs": [
    {
     "name": "stdout",
     "output_type": "stream",
     "text": [
      "Finding similar records (non-scaled):\n",
      "\n",
      "Using metric: euclidean\n",
      "      gender  age   income  family_members  insurance_benefits  distance\n",
      "3894       0   21  41700.0               2                   0  0.000000\n",
      "3          0   21  41700.0               2                   0  0.000000\n",
      "2102       0   23  41700.0               0                   0  2.828427\n",
      "416        0   25  41700.0               2                   0  4.000000\n",
      "4872       1   26  41700.0               2                   0  5.099020\n",
      "4275       0   26  41700.0               0                   0  5.385165\n",
      "2289       0   27  41700.0               0                   0  6.324555\n",
      "2001       0   28  41700.0               0                   0  7.280110\n",
      "\n",
      "Using metric: manhattan\n",
      "      gender  age   income  family_members  insurance_benefits  distance\n",
      "3          0   21  41700.0               2                   0       0.0\n",
      "3894       0   21  41700.0               2                   0       0.0\n",
      "2102       0   23  41700.0               0                   0       4.0\n",
      "416        0   25  41700.0               2                   0       4.0\n",
      "4872       1   26  41700.0               2                   0       6.0\n",
      "4275       0   26  41700.0               0                   0       7.0\n",
      "2289       0   27  41700.0               0                   0       8.0\n",
      "2001       0   28  41700.0               0                   0       9.0\n",
      "\n",
      "Finding similar records (scaled):\n",
      "\n",
      "Using metric: euclidean\n",
      "      gender       age    income  family_members  insurance_benefits  distance\n",
      "3894     0.0  0.323077  0.527848        0.333333                   0  0.000000\n",
      "3        0.0  0.323077  0.527848        0.333333                   0  0.000000\n",
      "29       0.0  0.323077  0.534177        0.333333                   0  0.006329\n",
      "1614     0.0  0.323077  0.518987        0.333333                   0  0.008861\n",
      "3918     0.0  0.307692  0.525316        0.333333                   0  0.015592\n",
      "3415     0.0  0.307692  0.530380        0.333333                   0  0.015592\n",
      "4125     0.0  0.307692  0.525316        0.333333                   0  0.015592\n",
      "1900     0.0  0.338462  0.531646        0.333333                   0  0.015846\n",
      "\n",
      "Using metric: manhattan\n",
      "      gender       age    income  family_members  insurance_benefits  distance\n",
      "3894     0.0  0.323077  0.527848        0.333333                   0  0.000000\n",
      "3        0.0  0.323077  0.527848        0.333333                   0  0.000000\n",
      "29       0.0  0.323077  0.534177        0.333333                   0  0.006329\n",
      "1614     0.0  0.323077  0.518987        0.333333                   0  0.008861\n",
      "3918     0.0  0.307692  0.525316        0.333333                   0  0.017916\n",
      "4125     0.0  0.307692  0.525316        0.333333                   0  0.017916\n",
      "3415     0.0  0.307692  0.530380        0.333333                   0  0.017916\n",
      "3108     0.0  0.323077  0.508861        0.333333                   0  0.018987\n"
     ]
    }
   ],
   "source": [
    "# List of distance metrics\n",
    "metrics = ['euclidean', 'manhattan']\n",
    "\n",
    "# Define the number of nearest neighbors\n",
    "k = 8\n",
    "\n",
    "# Define the sample customer index \n",
    "n = 3\n",
    "\n",
    "# Original data (non-scaled)\n",
    "print(\"Finding similar records (non-scaled):\")\n",
    "for metric in metrics:\n",
    "    similar_records = get_knn(df, n, k, metric)\n",
    "    print(f\"\\nUsing metric: {metric}\")\n",
    "    print(similar_records)\n",
    "\n",
    "# Scaled data\n",
    "print(\"\\nFinding similar records (scaled):\")\n",
    "for metric in metrics:\n",
    "    similar_records = get_knn(df_scaled, n, k, metric)\n",
    "    print(f\"\\nUsing metric: {metric}\")\n",
    "    print(similar_records)"
   ]
  },
  {
   "cell_type": "code",
   "execution_count": 17,
   "metadata": {},
   "outputs": [
    {
     "name": "stdout",
     "output_type": "stream",
     "text": [
      "Finding similar records (non-scaled):\n",
      "\n",
      "Using metric: euclidean\n",
      "      gender  age   income  family_members  insurance_benefits  distance\n",
      "0          1   41  49600.0               1                   0  0.000000\n",
      "2022       1   41  49600.0               0                   0  1.000000\n",
      "1225       0   42  49600.0               0                   1  1.732051\n",
      "4031       1   44  49600.0               2                   1  3.162278\n",
      "3424       0   38  49600.0               0                   0  3.316625\n",
      "815        1   37  49600.0               2                   0  4.123106\n",
      "4661       0   45  49600.0               0                   1  4.242641\n",
      "2125       0   37  49600.0               2                   0  4.242641\n",
      "2349       1   46  49600.0               2                   1  5.099020\n",
      "3900       1   36  49600.0               0                   0  5.099020\n",
      "\n",
      "Using metric: manhattan\n",
      "      gender  age   income  family_members  insurance_benefits  distance\n",
      "0          1   41  49600.0               1                   0       0.0\n",
      "2022       1   41  49600.0               0                   0       1.0\n",
      "1225       0   42  49600.0               0                   1       3.0\n",
      "4031       1   44  49600.0               2                   1       4.0\n",
      "815        1   37  49600.0               2                   0       5.0\n",
      "3424       0   38  49600.0               0                   0       5.0\n",
      "2125       0   37  49600.0               2                   0       6.0\n",
      "3900       1   36  49600.0               0                   0       6.0\n",
      "2349       1   46  49600.0               2                   1       6.0\n",
      "4661       0   45  49600.0               0                   1       6.0\n",
      "\n",
      "Finding similar records (scaled):\n",
      "\n",
      "Using metric: euclidean\n",
      "      gender       age    income  family_members  insurance_benefits  distance\n",
      "0        1.0  0.630769  0.627848        0.166667                   0  0.000000\n",
      "2689     1.0  0.630769  0.634177        0.166667                   0  0.006329\n",
      "133      1.0  0.615385  0.636709        0.166667                   0  0.017754\n",
      "4869     1.0  0.646154  0.637975        0.166667                   1  0.018418\n",
      "3275     1.0  0.646154  0.651899        0.166667                   1  0.028550\n",
      "1567     1.0  0.615385  0.602532        0.166667                   0  0.029624\n",
      "2103     1.0  0.630769  0.596203        0.166667                   0  0.031646\n",
      "3365     1.0  0.630769  0.596203        0.166667                   0  0.031646\n",
      "124      1.0  0.661538  0.635443        0.166667                   1  0.031693\n",
      "3636     1.0  0.615385  0.600000        0.166667                   0  0.031815\n",
      "\n",
      "Using metric: manhattan\n",
      "      gender       age    income  family_members  insurance_benefits  distance\n",
      "0        1.0  0.630769  0.627848        0.166667                   0  0.000000\n",
      "2689     1.0  0.630769  0.634177        0.166667                   0  0.006329\n",
      "133      1.0  0.615385  0.636709        0.166667                   0  0.024245\n",
      "4869     1.0  0.646154  0.637975        0.166667                   1  0.025511\n",
      "3365     1.0  0.630769  0.596203        0.166667                   0  0.031646\n",
      "2103     1.0  0.630769  0.596203        0.166667                   0  0.031646\n",
      "124      1.0  0.661538  0.635443        0.166667                   1  0.038364\n",
      "4305     1.0  0.630769  0.588608        0.166667                   0  0.039241\n",
      "3275     1.0  0.646154  0.651899        0.166667                   1  0.039435\n",
      "1567     1.0  0.615385  0.602532        0.166667                   0  0.040701\n"
     ]
    }
   ],
   "source": [
    "# Define the number of nearest neighbors\n",
    "k = 10\n",
    "\n",
    "# Define the sample customer index \n",
    "n = 0\n",
    "\n",
    "# Original data (non-scaled)\n",
    "print(\"Finding similar records (non-scaled):\")\n",
    "for metric in metrics:\n",
    "    similar_records = get_knn(df, n, k, metric)\n",
    "    print(f\"\\nUsing metric: {metric}\")\n",
    "    print(similar_records)\n",
    "\n",
    "# Scaled data\n",
    "print(\"\\nFinding similar records (scaled):\")\n",
    "for metric in metrics:\n",
    "    similar_records = get_knn(df_scaled, n, k, metric)\n",
    "    print(f\"\\nUsing metric: {metric}\")\n",
    "    print(similar_records)"
   ]
  },
  {
   "cell_type": "markdown",
   "metadata": {},
   "source": [
    "**Does the data being not scaled affect the kNN algorithm?** \n",
    "\n",
    "Unscaled data significantly affects the kNN algorithm. Features with larger numeric ranges (like income) dominate the distance calculations.  This forces features like age and gender with smaller numerical ranges to become miniscule. This kNN algorithm  relying on the feature with the largest range can bias nearest neighbor results.\n",
    "\n",
    "Scaling data forces each feature to have equal contributions to the distance calculation. The kNN algorithm is able to find more accurate nearest neighbors. This leads to more reasonable predictions and better representation of the actual similarity between the data points."
   ]
  },
  {
   "cell_type": "markdown",
   "metadata": {},
   "source": [
    "**How similar are the results using the Manhattan distance metric (regardless of the scaling)?** \n",
    "\n",
    "The Manhattan distance is consistenlty less sensitive to outliers since it calculates distances as the sum of absolute differences. Regardless of scaling the distance increases incrementally for each row. \n"
   ]
  },
  {
   "cell_type": "markdown",
   "metadata": {},
   "source": [
    "# Task 2. Is Customer Likely to Receive Insurance Benefit?"
   ]
  },
  {
   "cell_type": "markdown",
   "metadata": {},
   "source": [
    "Binary Classification Task:\n",
    "With `insurance_benefits` being more than zero as the target, evaluate whether the kNN classification approach can do better than a dummy model.\n",
    "\n",
    "- Build a KNN-based classifier and measure its quality with the F1 metric for k=1..10 for both the original data and the scaled one. That'd be interesting to see how k may influece the evaluation metric, and whether scaling the data makes any difference. You can use a ready implemention of the kNN classification algorithm from scikit-learn (check [the link](https://scikit-learn.org/stable/modules/generated/sklearn.neighbors.KNeighborsClassifier.html)) or use your own.\n",
    "- Build the dummy model which is just random for this case. It should return \"1\" with some probability. Let's test the model with four probability values: 0, the probability of paying any insurance benefit, 0.5, 1.\n",
    "\n",
    "The probability of paying any insurance benefit can be defined as\n",
    "\n",
    "$$\n",
    "P\\{\\text{insurance benefit received}\\}=\\frac{\\text{number of clients received any insurance benefit}}{\\text{total number of clients}}.\n",
    "$$\n",
    "\n",
    "Split the whole data in the 70:30 proportion for the training/testing parts."
   ]
  },
  {
   "cell_type": "code",
   "execution_count": 18,
   "metadata": {},
   "outputs": [],
   "source": [
    "# calculate the target\n",
    "df['insurance_benefits_received'] = (df['insurance_benefits']>0).astype(int)"
   ]
  },
  {
   "cell_type": "code",
   "execution_count": 19,
   "metadata": {},
   "outputs": [
    {
     "data": {
      "text/plain": [
       "0    4436\n",
       "1     564\n",
       "Name: insurance_benefits_received, dtype: int64"
      ]
     },
     "execution_count": 19,
     "metadata": {},
     "output_type": "execute_result"
    }
   ],
   "source": [
    "# check for the class imbalance with value_counts()\n",
    "df['insurance_benefits_received'].value_counts()\n"
   ]
  },
  {
   "cell_type": "code",
   "execution_count": 20,
   "metadata": {},
   "outputs": [],
   "source": [
    "X = df[['gender', 'age', 'income', 'family_members']]\n",
    "y = df['insurance_benefits_received']"
   ]
  },
  {
   "cell_type": "code",
   "execution_count": 21,
   "metadata": {},
   "outputs": [],
   "source": [
    "scaler = StandardScaler()\n",
    "X_scaled = scaler.fit_transform(X)"
   ]
  },
  {
   "cell_type": "code",
   "execution_count": 22,
   "metadata": {},
   "outputs": [
    {
     "name": "stdout",
     "output_type": "stream",
     "text": [
      "F1 Scores for Original Data:  [0.6523297491039427, 0.3762376237623762, 0.3870967741935483, 0.15555555555555553, 0.1675392670157068, 0.09411764705882353, 0.11560693641618497, 0.024539877300613494, 0.03658536585365854, 0.03658536585365854]\n",
      "F1 Scores for Scaled Data:  [0.9333333333333332, 0.9174917491749175, 0.9358974358974359, 0.9169435215946844, 0.9392971246006389, 0.9169435215946844, 0.9389067524115757, 0.912751677852349, 0.934640522875817, 0.9199999999999999]\n"
     ]
    }
   ],
   "source": [
    "# Split data into training and testing sets\n",
    "X_train, X_test, y_train, y_test = train_test_split(X, y, test_size=0.3, random_state=42)\n",
    "X_train_scaled, X_test_scaled, y_train_scaled, y_test_scaled= train_test_split(X_scaled, y, test_size=0.3, random_state=42)\n",
    "   \n",
    "f1_scores_original = []\n",
    "f1_scores_scaled = []\n",
    "   \n",
    "for k in range(1, 11):\n",
    "    # Original data\n",
    "    knn = KNeighborsClassifier(n_neighbors=k)\n",
    "    knn.fit(X_train, y_train)\n",
    "    y_pred = knn.predict(X_test)\n",
    "    f1_scores_original.append(f1_score(y_test, y_pred))\n",
    "   \n",
    "    # Scaled data\n",
    "    knn.fit(X_train_scaled, y_train)\n",
    "    y_pred_scaled = knn.predict(X_test_scaled)\n",
    "    f1_scores_scaled.append(f1_score(y_test, y_pred_scaled))\n",
    "   \n",
    "print(\"F1 Scores for Original Data: \", f1_scores_original)\n",
    "print(\"F1 Scores for Scaled Data: \", f1_scores_scaled)\n",
    "   "
   ]
  },
  {
   "cell_type": "code",
   "execution_count": 23,
   "metadata": {},
   "outputs": [
    {
     "data": {
      "image/png": "[encoded data removed]",
      "text/plain": [
       "<Figure size 640x480 with 1 Axes>"
      ]
     },
     "metadata": {},
     "output_type": "display_data"
    }
   ],
   "source": [
    "import matplotlib.pyplot as plt\n",
    "   \n",
    "plt.plot(range(1, 11), f1_scores_original, label='Original Data')\n",
    "plt.plot(range(1, 11), f1_scores_scaled, label='Scaled Data', linestyle='--')\n",
    "plt.xlabel('Number of Neighbors (k)')\n",
    "plt.ylabel('F1 Score')\n",
    "plt.title('F1 Score vs Number of Neighbors')\n",
    "plt.legend()\n",
    "plt.show()\n",
    "   "
   ]
  },
  {
   "cell_type": "code",
   "execution_count": 24,
   "metadata": {},
   "outputs": [],
   "source": [
    "def eval_classifier(y_true, y_pred):\n",
    "    \n",
    "    f1_score = sklearn.metrics.f1_score(y_true, y_pred)\n",
    "    print(f'F1: {f1_score:.2f}')\n",
    "    \n",
    "# if you have an issue with the following line, restart the kernel and run the notebook again\n",
    "    cm = sklearn.metrics.confusion_matrix(y_true, y_pred, normalize='all')\n",
    "    print('Confusion Matrix')\n",
    "    print(cm)"
   ]
  },
  {
   "cell_type": "code",
   "execution_count": 25,
   "metadata": {},
   "outputs": [],
   "source": [
    "# generating output of a random model\n",
    "\n",
    "def rnd_model_predict(P, size, seed=42):\n",
    "\n",
    "    rng = np.random.default_rng(seed=seed)\n",
    "    return rng.binomial(n=1, p=P, size=size)"
   ]
  },
  {
   "cell_type": "code",
   "execution_count": 26,
   "metadata": {},
   "outputs": [
    {
     "name": "stdout",
     "output_type": "stream",
     "text": [
      "The probability: 0.00\n",
      "F1: 0.00\n",
      "Confusion Matrix\n",
      "[[0.8872 0.    ]\n",
      " [0.1128 0.    ]]\n",
      "\n",
      "The probability: 0.11\n",
      "F1: 0.12\n",
      "Confusion Matrix\n",
      "[[0.7914 0.0958]\n",
      " [0.0994 0.0134]]\n",
      "\n",
      "The probability: 0.50\n",
      "F1: 0.20\n",
      "Confusion Matrix\n",
      "[[0.456  0.4312]\n",
      " [0.053  0.0598]]\n",
      "\n",
      "The probability: 1.00\n",
      "F1: 0.20\n",
      "Confusion Matrix\n",
      "[[0.     0.8872]\n",
      " [0.     0.1128]]\n",
      "\n"
     ]
    }
   ],
   "source": [
    "for P in [0, df['insurance_benefits_received'].sum() / len(df), 0.5, 1]:\n",
    "\n",
    "    print(f'The probability: {P:.2f}')\n",
    "    y_pred_rnd = rnd_model_predict(P, len(df))\n",
    "        \n",
    "    eval_classifier(df['insurance_benefits_received'], y_pred_rnd)\n",
    "    \n",
    "    print()"
   ]
  },
  {
   "cell_type": "markdown",
   "metadata": {},
   "source": [
    "# Task 3. Regression (with Linear Regression)"
   ]
  },
  {
   "cell_type": "markdown",
   "metadata": {},
   "source": [
    "Evaluate what RMSE would be for a Linear Regression model."
   ]
  },
  {
   "cell_type": "markdown",
   "metadata": {},
   "source": [
    "Check RMSE for both the original data and the scaled one; spot differences.\n",
    "\n",
    "Let's denote\n",
    "- $X$ — feature matrix, each row is a case, each column is a feature, the first column consists of unities\n",
    "- $y$ — target (a vector)\n",
    "- $\\hat{y}$ — estimated tagret (a vector)\n",
    "- $w$ — weight vector\n",
    "\n",
    "The task of linear regression in the language of matrices can be formulated as\n",
    "\n",
    "$$\n",
    "y = Xw\n",
    "$$\n",
    "\n",
    "The training objective then is to find such $w$ that it would minimize the L2-distance (MSE) between $Xw$ and $y$:\n",
    "\n",
    "$$\n",
    "\\min_w d_2(Xw, y) \\quad \\text{or} \\quad \\min_w \\text{MSE}(Xw, y)\n",
    "$$\n",
    "\n",
    "It appears that there is analytical solution for the above:\n",
    "\n",
    "$$\n",
    "w = (X^T X)^{-1} X^T y\n",
    "$$\n",
    "\n",
    "The formula above can be used to find the weights $w$ and the latter can be used to calculate predicted values\n",
    "\n",
    "$$\n",
    "\\hat{y} = X_{val}w\n",
    "$$"
   ]
  },
  {
   "cell_type": "markdown",
   "metadata": {},
   "source": [
    "Split the whole data in the 70:30 proportion for the training/validation parts. Use the RMSE metric for the model evaluation."
   ]
  },
  {
   "cell_type": "code",
   "execution_count": 27,
   "metadata": {},
   "outputs": [],
   "source": [
    "class MyLinearRegression:\n",
    "    \n",
    "    def __init__(self):\n",
    "        \n",
    "        self.weights = None\n",
    "    \n",
    "    def fit(self, X, y):\n",
    "        \n",
    "        # adding the unities\n",
    "        X2 = np.append(np.ones([len(X), 1]), X, axis=1)\n",
    "        self.weights = np.linalg.inv(X2.T @ X2) @ X2.T @ y\n",
    "\n",
    "\n",
    "    def predict(self, X):\n",
    "        \n",
    "        # adding the unities\n",
    "        X2 = np.append(np.ones((len(X), 1)), X, axis=1)\n",
    "        y_pred = X2 @ self.weights\n",
    "        \n",
    "        return y_pred"
   ]
  },
  {
   "cell_type": "code",
   "execution_count": 28,
   "metadata": {},
   "outputs": [],
   "source": [
    "def eval_regressor(y_true, y_pred):\n",
    "    \n",
    "    rmse = math.sqrt(sklearn.metrics.mean_squared_error(y_true, y_pred))\n",
    "    print(f'RMSE: {rmse:.2f}')\n",
    "    \n",
    "    r2_score = math.sqrt(sklearn.metrics.r2_score(y_true, y_pred))\n",
    "    print(f'R2: {r2_score:.2f}')    "
   ]
  },
  {
   "cell_type": "code",
   "execution_count": 29,
   "metadata": {},
   "outputs": [
    {
     "name": "stdout",
     "output_type": "stream",
     "text": [
      "Original Linear Regression Results:\n",
      "[-9.43539012e-01  3.57495491e-02  1.64272726e-02 -2.60743659e-07\n",
      " -1.16902127e-02]\n",
      "RMSE: 0.34\n",
      "R2: 0.66\n"
     ]
    }
   ],
   "source": [
    "X = df[['age', 'gender', 'income', 'family_members']].to_numpy()\n",
    "y = df['insurance_benefits'].to_numpy()\n",
    "\n",
    "X_train, X_test, y_train, y_test = train_test_split(X, y, test_size=0.3, random_state=12345)\n",
    "\n",
    "lr = MyLinearRegression()\n",
    "\n",
    "lr.fit(X_train, y_train)\n",
    "print('Original Linear Regression Results:')\n",
    "print(lr.weights)\n",
    "\n",
    "y_test_pred = lr.predict(X_test)\n",
    "eval_regressor(y_test, y_test_pred)"
   ]
  },
  {
   "cell_type": "code",
   "execution_count": 30,
   "metadata": {},
   "outputs": [],
   "source": [
    "X_train_scaled, X_test_scaled, y_train_scaled, y_test_scaled= train_test_split(X_scaled, y, test_size=0.3, random_state=12345)\n"
   ]
  },
  {
   "cell_type": "code",
   "execution_count": 31,
   "metadata": {},
   "outputs": [
    {
     "name": "stdout",
     "output_type": "stream",
     "text": [
      "Scaled Linear Regression Results:\n",
      "[ 0.14683845  0.00821362  0.30172486 -0.00258113 -0.01275726]\n",
      "RMSE: 0.34\n",
      "R2: 0.66\n"
     ]
    }
   ],
   "source": [
    "print('Scaled Linear Regression Results:')\n",
    "lr.fit(X_train_scaled, y_train_scaled)\n",
    "print(lr.weights)\n",
    "\n",
    "y_test_pred = lr.predict(X_test_scaled)\n",
    "eval_regressor(y_test_scaled, y_test_pred)"
   ]
  },
  {
   "cell_type": "markdown",
   "metadata": {},
   "source": [
    "# Task 4. Obfuscating Data"
   ]
  },
  {
   "cell_type": "markdown",
   "metadata": {},
   "source": [
    "It best to obfuscate data by multiplying the numerical features (remember, they can be seen as the matrix $X$) by an invertible matrix $P$. \n",
    "\n",
    "$$\n",
    "X' = X \\times P\n",
    "$$\n",
    "\n",
    "Check how the features' values will look like after the transformation. Intertible property is important here so make sure that $P$ is indeed invertible.\n"
   ]
  },
  {
   "cell_type": "code",
   "execution_count": 32,
   "metadata": {},
   "outputs": [],
   "source": [
    "personal_info_column_list = ['gender', 'age', 'income', 'family_members']\n",
    "df_pn = df[personal_info_column_list]"
   ]
  },
  {
   "cell_type": "code",
   "execution_count": 33,
   "metadata": {},
   "outputs": [],
   "source": [
    "X = df_pn.to_numpy()"
   ]
  },
  {
   "cell_type": "markdown",
   "metadata": {},
   "source": [
    "Generating a random matrix $P$."
   ]
  },
  {
   "cell_type": "code",
   "execution_count": 34,
   "metadata": {},
   "outputs": [],
   "source": [
    "rng = np.random.default_rng(seed=42)\n",
    "P = rng.random(size=(X.shape[1], X.shape[1]))"
   ]
  },
  {
   "cell_type": "code",
   "execution_count": 35,
   "metadata": {},
   "outputs": [
    {
     "data": {
      "text/plain": [
       "array([[0.77395605, 0.43887844, 0.85859792, 0.69736803],\n",
       "       [0.09417735, 0.97562235, 0.7611397 , 0.78606431],\n",
       "       [0.12811363, 0.45038594, 0.37079802, 0.92676499],\n",
       "       [0.64386512, 0.82276161, 0.4434142 , 0.22723872]])"
      ]
     },
     "execution_count": 35,
     "metadata": {},
     "output_type": "execute_result"
    }
   ],
   "source": [
    "P"
   ]
  },
  {
   "cell_type": "markdown",
   "metadata": {},
   "source": [
    "Checking the matrix $P$ is invertible"
   ]
  },
  {
   "cell_type": "code",
   "execution_count": 36,
   "metadata": {},
   "outputs": [
    {
     "name": "stdout",
     "output_type": "stream",
     "text": [
      "[[ 0.41467992 -1.43783972  0.62798546  1.14001268]\n",
      " [-1.06101789  0.44219337  0.1329549   1.18425933]\n",
      " [ 1.42362442  1.60461607 -2.0553823  -1.53699695]\n",
      " [-0.11128575 -0.65813802  1.74995517 -0.11816316]]\n"
     ]
    }
   ],
   "source": [
    "inverse=np.linalg.inv(P)\n",
    "print(inverse)"
   ]
  },
  {
   "cell_type": "markdown",
   "metadata": {},
   "source": [
    "Matrix P is invertible. "
   ]
  },
  {
   "cell_type": "markdown",
   "metadata": {},
   "source": [
    "Recover the original data from $X'$ if $P$ is known? Try to check that with calculations by moving $P$ from the right side of the formula above to the left one. The rules of matrix multiplcation are really helpful here."
   ]
  },
  {
   "cell_type": "code",
   "execution_count": 37,
   "metadata": {},
   "outputs": [
    {
     "data": {
      "text/plain": [
       "array([[  0.5357926 ,  -3.27616849,   0.73140808,   1.63473608],\n",
       "       [-11.26616867,   0.45324236,   0.17467871,   1.506568  ],\n",
       "       [ 11.11220085,   3.56275793,  -5.54313174,  -1.65845383],\n",
       "       [ -0.17284016,  -0.79991338,   3.94654743,  -0.51999573]])"
      ]
     },
     "execution_count": 37,
     "metadata": {},
     "output_type": "execute_result"
    }
   ],
   "source": [
    "inverse/P"
   ]
  },
  {
   "cell_type": "markdown",
   "metadata": {},
   "source": [
    "Print all three cases for a few customers\n",
    "- The original data\n",
    "- The transformed one\n",
    "- The reversed (recovered) one"
   ]
  },
  {
   "cell_type": "code",
   "execution_count": 38,
   "metadata": {},
   "outputs": [
    {
     "name": "stdout",
     "output_type": "stream",
     "text": [
      "Original Data:\n",
      "[[1.00e+00 4.10e+01 4.96e+04 1.00e+00]\n",
      " [0.00e+00 4.60e+01 3.80e+04 1.00e+00]\n",
      " [0.00e+00 2.90e+01 2.10e+04 0.00e+00]\n",
      " ...\n",
      " [0.00e+00 2.00e+01 3.39e+04 2.00e+00]\n",
      " [1.00e+00 2.20e+01 3.27e+04 3.00e+00]\n",
      " [1.00e+00 2.80e+01 4.06e+04 1.00e+00]]\n",
      "\n",
      "Transformed Data:\n",
      "[[ 6359.71527314 22380.40467609 18424.09074184 46000.69669016]\n",
      " [ 4873.29406479 17160.36702982 14125.78076133 35253.45577301]\n",
      " [ 2693.11742928  9486.397744    7808.83156024 19484.86063067]\n",
      " ...\n",
      " [ 4346.2234249  15289.24126492 12586.16264392 31433.50888552]\n",
      " [ 4194.09324155 14751.9910242  12144.02930637 30323.88763426]\n",
      " [ 5205.46827354 18314.24814446 15077.01370762 37649.59295455]]\n",
      "\n",
      "Recovered Data:\n",
      "[[ 1.00000000e+00  4.10000000e+01  4.96000000e+04  1.00000000e+00]\n",
      " [-4.47363596e-12  4.60000000e+01  3.80000000e+04  1.00000000e+00]\n",
      " [-2.51586878e-12  2.90000000e+01  2.10000000e+04  9.52452315e-13]\n",
      " ...\n",
      " [-1.92837871e-12  2.00000000e+01  3.39000000e+04  2.00000000e+00]\n",
      " [ 1.00000000e+00  2.20000000e+01  3.27000000e+04  3.00000000e+00]\n",
      " [ 1.00000000e+00  2.80000000e+01  4.06000000e+04  1.00000000e+00]]\n"
     ]
    }
   ],
   "source": [
    "\n",
    "# Transform the original data\n",
    "transformed = np.dot(X, P)\n",
    "\n",
    "# Compute the inverse of P\n",
    "P_inverse = np.linalg.inv(P)\n",
    "\n",
    "# Recover the original data\n",
    "recovered = np.dot(transformed, P_inverse)\n",
    "\n",
    "# Print results for demonstration purposes\n",
    "# (You can customize this to print a few customers)\n",
    "print(\"Original Data:\")\n",
    "print(X)\n",
    "\n",
    "print(\"\\nTransformed Data:\")\n",
    "print(transformed)\n",
    "\n",
    "print(\"\\nRecovered Data:\")\n",
    "print(recovered)"
   ]
  },
  {
   "cell_type": "markdown",
   "metadata": {},
   "source": [
    "Some values may n ot be exactly the same due to numpy only functioning with double precision.  Project matrixes have values at e-13.  Rounding errors can still occur. "
   ]
  },
  {
   "cell_type": "markdown",
   "metadata": {},
   "source": [
    "## Proof That Data Obfuscation Can Work with LR"
   ]
  },
  {
   "cell_type": "markdown",
   "metadata": {},
   "source": [
    "The regression task has been solved with linear regression in this project. Your next task is to prove _analytically_ that the given obfuscation method won't affect linear regression in terms of predicted values i.e. their values will remain the same."
   ]
  },
  {
   "cell_type": "markdown",
   "metadata": {},
   "source": [
    "If formula was simpliefied $w$ and $w_P$ would be linked as $w_P$= P^-1w.  The predicted values are the same as using w.  The obfuscation through 𝑃 does not alter the predictions. RMSE the discrepeancy between the true values and the predicted values.  The quality of linear regression measured with RMSE remains unchanged since the predicted values $y_P$ with $w_P$ identical to y with w. "
   ]
  },
  {
   "cell_type": "markdown",
   "metadata": {},
   "source": [
    "**Analytical proof**"
   ]
  },
  {
   "cell_type": "markdown",
   "metadata": {},
   "source": [
    "Given that \n",
    "$$w = (X^TX)^{-1}X^Ty$$\n",
    "$$w_P = [(XP)^T(XP)]^{-1}(XP)^Ty$$\n",
    "1. Based on reversaity of transpose of matrix product on first half of equation: \n",
    "$$ w_P = [(XP)^TXP]^{-1} (XP)^Ty$$\n",
    "2. associative property of multiplication\n",
    "$$ w_P = [(P^TX^TX)P]^{-1} (XP)^Ty$$\n",
    "3. multiplicative identity property\n",
    "$$ w_P = P^{-1}[P^TX^TX]^{-1} (XP)^Ty$$\n",
    "4. multiplicative identity property\n",
    "$$ w_P = P^{-1}[X^TX]^{-1}[P^T]^{-1} (XP)^Ty$$\n",
    "5. Based on reversaity of transpose of matrix product on second half of equation: \n",
    "$$ w_P = P^{-1}[X^TX]^{-1}[P^T]^{-1} (P^TX^Ty)$$\n",
    "6. Identify and remove present identity matrix for P\n",
    "$$ w_P = P^{-1}[X^TX]^{-1}IX^Ty$$\n",
    "$$ w_P = P^{-1}[X^TX]^{-1}X^Ty$$\n",
    "7. Use w since definition present\n",
    "$$ w_P = P^{-1} w$$"
   ]
  },
  {
   "cell_type": "markdown",
   "metadata": {},
   "source": [
    "Linear regression is y=X(features) *w (weights)\n",
    "$$Y=XW$$\n",
    "$$yP=XP*wp$$\n",
    "insert in found formula for wp\n",
    "$$yP=XPP^{-1}w$$\n",
    "associative property of communication \n",
    "$$yp=X*(PP^{-1})w $$\n",
    "remove identity matrix \n",
    "$$yP=Xw$$\n",
    "There will not be a different result because if P is inverse we will achieve same result. \n",
    "\n"
   ]
  },
  {
   "cell_type": "markdown",
   "metadata": {},
   "source": [
    "## Test Linear Regression With Data Obfuscation"
   ]
  },
  {
   "cell_type": "markdown",
   "metadata": {},
   "source": [
    "Prove Linear Regression can work computationally with the chosen obfuscation transformation.\n",
    "\n",
    "Build a procedure or a class that runs Linear Regression optionally with the obfuscation. \n",
    "\n",
    "Run Linear Regression for the original data and the obfuscated one, compare the predicted values and the RMSE, $R^2$ metric values. Is there any difference?"
   ]
  },
  {
   "cell_type": "code",
   "execution_count": 39,
   "metadata": {},
   "outputs": [
    {
     "name": "stdout",
     "output_type": "stream",
     "text": [
      "[[ 3.52874725 -3.73691871 -1.63170675 -0.72173547]\n",
      " [-0.31181108  2.06688505  0.14025018 -0.91461612]\n",
      " [-0.93969328  0.59778077  1.49732213 -0.01247502]\n",
      " [-1.03118507  0.91623605  0.35701011  1.37411748]]\n"
     ]
    }
   ],
   "source": [
    "rng = np.random.default_rng(seed=50)\n",
    "P = rng.random(size=(X.shape[1], X.shape[1]))\n",
    "inverse=np.linalg.inv(P)\n",
    "print(inverse)"
   ]
  },
  {
   "cell_type": "code",
   "execution_count": 40,
   "metadata": {},
   "outputs": [
    {
     "name": "stdout",
     "output_type": "stream",
     "text": [
      "Original Dataset Evaluation\n",
      "RMSE: 0.3637189976119266\n",
      "R2: 0.4226999694460717\n",
      "******************************************\n",
      "Obfusciated Data Evaluation\n",
      "RMSE: 0.3637189976118563\n",
      "R2: 0.4226999694460717\n"
     ]
    }
   ],
   "source": [
    "# Linear regression function with option to obfuscate\n",
    "def linear_regression(X, y, P=None):\n",
    "    if P is not None:\n",
    "        X = np.dot(X, P)\n",
    "        \n",
    "    lr = LinearRegression()\n",
    "    lr.fit(X, y)\n",
    "    y_pred = lr.predict(X)\n",
    "    \n",
    "    rmse = np.sqrt(mean_squared_error(y, y_pred))\n",
    "    r2 = r2_score(y, y_pred)\n",
    "    \n",
    "    return lr, y_pred, rmse, r2\n",
    "\n",
    "# Splitting original data into training and testing sets\n",
    "X_train, X_test, y_train, y_test = train_test_split(X, y, test_size=0.3, random_state=42)\n",
    "\n",
    "# Original Dataset: Train the model\n",
    "lr_original, y_pred_original, rmse_original, r2_original = linear_regression(X_train, y_train)\n",
    "\n",
    "# Use the trained model to make predictions on the test set\n",
    "y_pred_test_original = lr_original.predict(X_test)\n",
    "rmse_test_original = mean_squared_error(y_test, y_pred_test_original, squared=False)  \n",
    "r2_test_original = r2_score(y_test, y_pred_test_original)\n",
    "\n",
    "print(\"Original Dataset Evaluation\")\n",
    "print(\"RMSE:\", rmse_test_original)\n",
    "print(\"R2:\", r2_test_original)\n",
    "\n",
    "\n",
    "# Obfuscated Dataset: Train the model with obfuscated training data\n",
    "lr_obfuscated, y_pred_obfuscated, rmse_obfuscated, r2_obfuscated = linear_regression(X_train, y_train, P)\n",
    "\n",
    "# Obfuscate the test data using the same invertible matrix\n",
    "X_test_obfuscated = np.dot(X_test, P)\n",
    "\n",
    "# Use the trained model to make predictions on the obfuscated test set\n",
    "y_pred_test_obfuscated = lr_obfuscated.predict(X_test_obfuscated)\n",
    "rmse_test_obfuscated = mean_squared_error(y_test, y_pred_test_obfuscated, squared=False) \n",
    "r2_test_obfuscated = r2_score(y_test, y_pred_test_original)\n",
    "print('******************************************')\n",
    "print(\"Obfusciated Data Evaluation\")\n",
    "print(\"RMSE:\", rmse_test_obfuscated)\n",
    "print(\"R2:\", r2_test_obfuscated)"
   ]
  },
  {
   "cell_type": "markdown",
   "metadata": {},
   "source": [
    "# Conclusions"
   ]
  },
  {
   "cell_type": "markdown",
   "metadata": {},
   "source": [
    "RMSE and ( R^2 ): The RMSE and ( R^2 ) values for both the original and obfuscated datasets are very similar. They only differ by a tenth decimal point.  Providing an indication that the obfuscation process did not significantly impact the performance of the Linear Regression. \n"
   ]
  },
  {
   "cell_type": "markdown",
   "metadata": {},
   "source": [
    "The transformation by an invertible matrix does not degrade the quality of the linear model.In using a random matrix for obfuscation the linear regression maintained the ability to make accurate predictions."
   ]
  },
  {
   "cell_type": "markdown",
   "metadata": {},
   "source": [
    "Sensitive data can be obfuscated to protect it without sacrificing the accuracy of predictive models. Sure Tomorrow insurance company is enable to share data more securely.\n"
   ]
  }
 ],
 "metadata": {
  "ExecuteTimeLog": [
   {
    "duration": 2745,
    "start_time": "2025-01-12T20:38:07.032Z"
   },
   {
    "duration": 12,
    "start_time": "2025-01-12T20:38:09.779Z"
   },
   {
    "duration": 3,
    "start_time": "2025-01-12T20:38:09.792Z"
   },
   {
    "duration": 18,
    "start_time": "2025-01-12T20:38:09.797Z"
   },
   {
    "duration": 9,
    "start_time": "2025-01-12T20:38:09.817Z"
   },
   {
    "duration": 279,
    "start_time": "2025-01-12T20:39:13.760Z"
   },
   {
    "duration": 10,
    "start_time": "2025-01-12T20:39:14.366Z"
   },
   {
    "duration": 3,
    "start_time": "2025-01-12T20:39:21.301Z"
   },
   {
    "duration": 9,
    "start_time": "2025-01-12T20:39:23.030Z"
   },
   {
    "duration": 155,
    "start_time": "2025-01-13T17:37:25.836Z"
   },
   {
    "duration": 11,
    "start_time": "2025-01-13T17:37:36.489Z"
   },
   {
    "duration": 2682,
    "start_time": "2025-01-13T17:37:44.590Z"
   },
   {
    "duration": 14,
    "start_time": "2025-01-13T17:37:47.275Z"
   },
   {
    "duration": 4,
    "start_time": "2025-01-13T17:37:47.293Z"
   },
   {
    "duration": 13,
    "start_time": "2025-01-13T17:37:47.299Z"
   },
   {
    "duration": 10,
    "start_time": "2025-01-13T17:37:47.313Z"
   },
   {
    "duration": 3,
    "start_time": "2025-01-13T17:37:47.325Z"
   },
   {
    "duration": 9,
    "start_time": "2025-01-13T17:37:47.330Z"
   },
   {
    "duration": 5,
    "start_time": "2025-01-13T17:37:47.341Z"
   },
   {
    "duration": 5,
    "start_time": "2025-01-13T17:37:47.348Z"
   },
   {
    "duration": 4,
    "start_time": "2025-01-13T17:37:47.356Z"
   },
   {
    "duration": 7,
    "start_time": "2025-01-13T17:44:03.969Z"
   },
   {
    "duration": 6,
    "start_time": "2025-01-13T17:44:15.309Z"
   },
   {
    "duration": 6,
    "start_time": "2025-01-13T17:45:59.599Z"
   },
   {
    "duration": 7,
    "start_time": "2025-01-13T17:46:37.089Z"
   },
   {
    "duration": 10,
    "start_time": "2025-01-13T17:46:49.243Z"
   },
   {
    "duration": 10,
    "start_time": "2025-01-13T17:59:51.415Z"
   },
   {
    "duration": 17,
    "start_time": "2025-01-13T18:18:11.073Z"
   },
   {
    "duration": 3,
    "start_time": "2025-01-13T18:23:50.297Z"
   },
   {
    "duration": 7,
    "start_time": "2025-01-13T18:23:50.314Z"
   },
   {
    "duration": 3,
    "start_time": "2025-01-13T18:23:50.323Z"
   },
   {
    "duration": 10,
    "start_time": "2025-01-13T18:23:50.327Z"
   },
   {
    "duration": 9,
    "start_time": "2025-01-13T18:23:50.338Z"
   },
   {
    "duration": 3,
    "start_time": "2025-01-13T18:23:50.350Z"
   },
   {
    "duration": 7,
    "start_time": "2025-01-13T18:23:50.354Z"
   },
   {
    "duration": 5,
    "start_time": "2025-01-13T18:23:50.363Z"
   },
   {
    "duration": 40,
    "start_time": "2025-01-13T18:23:50.370Z"
   },
   {
    "duration": 19,
    "start_time": "2025-01-13T18:23:50.412Z"
   },
   {
    "duration": 2608,
    "start_time": "2025-01-13T18:23:50.433Z"
   },
   {
    "duration": 2,
    "start_time": "2025-01-13T18:23:53.044Z"
   },
   {
    "duration": 6,
    "start_time": "2025-01-13T18:23:53.048Z"
   },
   {
    "duration": 0,
    "start_time": "2025-01-13T18:23:53.055Z"
   },
   {
    "duration": 0,
    "start_time": "2025-01-13T18:23:53.056Z"
   },
   {
    "duration": 4,
    "start_time": "2025-01-13T18:24:10.887Z"
   },
   {
    "duration": 9,
    "start_time": "2025-01-13T18:24:17.295Z"
   },
   {
    "duration": 9,
    "start_time": "2025-01-13T18:24:20.133Z"
   },
   {
    "duration": 2,
    "start_time": "2025-01-13T18:29:36.076Z"
   },
   {
    "duration": 4,
    "start_time": "2025-01-13T18:29:36.890Z"
   },
   {
    "duration": 7,
    "start_time": "2025-01-13T18:29:38.824Z"
   },
   {
    "duration": 8,
    "start_time": "2025-01-13T18:29:40.092Z"
   },
   {
    "duration": 99,
    "start_time": "2025-01-13T18:32:36.040Z"
   },
   {
    "duration": 3,
    "start_time": "2025-01-13T18:35:42.279Z"
   },
   {
    "duration": 8,
    "start_time": "2025-01-13T18:35:42.284Z"
   },
   {
    "duration": 4,
    "start_time": "2025-01-13T18:35:42.293Z"
   },
   {
    "duration": 9,
    "start_time": "2025-01-13T18:35:42.298Z"
   },
   {
    "duration": 7,
    "start_time": "2025-01-13T18:35:42.310Z"
   },
   {
    "duration": 3,
    "start_time": "2025-01-13T18:35:42.319Z"
   },
   {
    "duration": 8,
    "start_time": "2025-01-13T18:35:42.324Z"
   },
   {
    "duration": 5,
    "start_time": "2025-01-13T18:35:42.333Z"
   },
   {
    "duration": 5,
    "start_time": "2025-01-13T18:35:42.339Z"
   },
   {
    "duration": 15,
    "start_time": "2025-01-13T18:35:42.346Z"
   },
   {
    "duration": 2640,
    "start_time": "2025-01-13T18:35:42.363Z"
   },
   {
    "duration": 3,
    "start_time": "2025-01-13T18:35:45.008Z"
   },
   {
    "duration": 4,
    "start_time": "2025-01-13T18:35:45.014Z"
   },
   {
    "duration": 9,
    "start_time": "2025-01-13T18:35:45.019Z"
   },
   {
    "duration": 7,
    "start_time": "2025-01-13T18:35:45.029Z"
   },
   {
    "duration": 165,
    "start_time": "2025-01-13T18:35:45.038Z"
   },
   {
    "duration": 3,
    "start_time": "2025-01-13T18:36:43.074Z"
   },
   {
    "duration": 7,
    "start_time": "2025-01-13T18:36:43.079Z"
   },
   {
    "duration": 3,
    "start_time": "2025-01-13T18:36:43.087Z"
   },
   {
    "duration": 9,
    "start_time": "2025-01-13T18:36:43.092Z"
   },
   {
    "duration": 8,
    "start_time": "2025-01-13T18:36:43.103Z"
   },
   {
    "duration": 3,
    "start_time": "2025-01-13T18:36:43.112Z"
   },
   {
    "duration": 7,
    "start_time": "2025-01-13T18:36:43.117Z"
   },
   {
    "duration": 5,
    "start_time": "2025-01-13T18:36:43.126Z"
   },
   {
    "duration": 5,
    "start_time": "2025-01-13T18:36:43.133Z"
   },
   {
    "duration": 15,
    "start_time": "2025-01-13T18:36:43.139Z"
   },
   {
    "duration": 2654,
    "start_time": "2025-01-13T18:36:43.156Z"
   },
   {
    "duration": 2,
    "start_time": "2025-01-13T18:36:45.813Z"
   },
   {
    "duration": 3,
    "start_time": "2025-01-13T18:36:45.819Z"
   },
   {
    "duration": 8,
    "start_time": "2025-01-13T18:36:45.824Z"
   },
   {
    "duration": 7,
    "start_time": "2025-01-13T18:36:45.834Z"
   },
   {
    "duration": 192,
    "start_time": "2025-01-13T18:36:45.843Z"
   },
   {
    "duration": 3,
    "start_time": "2025-01-13T18:59:44.711Z"
   },
   {
    "duration": 7,
    "start_time": "2025-01-13T18:59:44.717Z"
   },
   {
    "duration": 3,
    "start_time": "2025-01-13T18:59:44.726Z"
   },
   {
    "duration": 8,
    "start_time": "2025-01-13T18:59:44.731Z"
   },
   {
    "duration": 8,
    "start_time": "2025-01-13T18:59:44.742Z"
   },
   {
    "duration": 4,
    "start_time": "2025-01-13T18:59:44.751Z"
   },
   {
    "duration": 8,
    "start_time": "2025-01-13T18:59:44.757Z"
   },
   {
    "duration": 43,
    "start_time": "2025-01-13T18:59:44.767Z"
   },
   {
    "duration": 6,
    "start_time": "2025-01-13T18:59:44.813Z"
   },
   {
    "duration": 20,
    "start_time": "2025-01-13T18:59:44.821Z"
   },
   {
    "duration": 2717,
    "start_time": "2025-01-13T18:59:44.843Z"
   },
   {
    "duration": 3,
    "start_time": "2025-01-13T18:59:47.562Z"
   },
   {
    "duration": 4,
    "start_time": "2025-01-13T18:59:47.567Z"
   },
   {
    "duration": 8,
    "start_time": "2025-01-13T18:59:47.575Z"
   },
   {
    "duration": 25,
    "start_time": "2025-01-13T18:59:47.585Z"
   },
   {
    "duration": 47,
    "start_time": "2025-01-13T18:59:47.612Z"
   },
   {
    "duration": 58,
    "start_time": "2025-01-13T19:01:41.633Z"
   },
   {
    "duration": 2784,
    "start_time": "2025-01-14T18:53:13.116Z"
   },
   {
    "duration": 11,
    "start_time": "2025-01-14T18:53:15.902Z"
   },
   {
    "duration": 3,
    "start_time": "2025-01-14T18:53:15.915Z"
   },
   {
    "duration": 10,
    "start_time": "2025-01-14T18:53:15.920Z"
   },
   {
    "duration": 9,
    "start_time": "2025-01-14T18:53:15.931Z"
   },
   {
    "duration": 3,
    "start_time": "2025-01-14T18:53:15.942Z"
   },
   {
    "duration": 7,
    "start_time": "2025-01-14T18:53:15.947Z"
   },
   {
    "duration": 32,
    "start_time": "2025-01-14T18:53:15.956Z"
   },
   {
    "duration": 5,
    "start_time": "2025-01-14T18:53:15.989Z"
   },
   {
    "duration": 15,
    "start_time": "2025-01-14T18:53:15.997Z"
   },
   {
    "duration": 2622,
    "start_time": "2025-01-14T18:53:16.013Z"
   },
   {
    "duration": 3,
    "start_time": "2025-01-14T18:53:18.637Z"
   },
   {
    "duration": 4,
    "start_time": "2025-01-14T18:53:18.641Z"
   },
   {
    "duration": 8,
    "start_time": "2025-01-14T18:53:18.647Z"
   },
   {
    "duration": 8,
    "start_time": "2025-01-14T18:53:18.656Z"
   },
   {
    "duration": 61,
    "start_time": "2025-01-14T18:53:18.666Z"
   },
   {
    "duration": 46,
    "start_time": "2025-01-14T18:53:18.730Z"
   },
   {
    "duration": 667,
    "start_time": "2025-01-14T18:57:10.073Z"
   },
   {
    "duration": 0,
    "start_time": "2025-01-14T18:57:10.742Z"
   },
   {
    "duration": 3,
    "start_time": "2025-01-14T18:57:28.050Z"
   },
   {
    "duration": 8,
    "start_time": "2025-01-14T18:57:28.056Z"
   },
   {
    "duration": 3,
    "start_time": "2025-01-14T18:57:28.065Z"
   },
   {
    "duration": 8,
    "start_time": "2025-01-14T18:57:28.070Z"
   },
   {
    "duration": 8,
    "start_time": "2025-01-14T18:57:28.080Z"
   },
   {
    "duration": 3,
    "start_time": "2025-01-14T18:57:28.089Z"
   },
   {
    "duration": 8,
    "start_time": "2025-01-14T18:57:28.094Z"
   },
   {
    "duration": 5,
    "start_time": "2025-01-14T18:57:28.105Z"
   },
   {
    "duration": 6,
    "start_time": "2025-01-14T18:57:28.111Z"
   },
   {
    "duration": 19,
    "start_time": "2025-01-14T18:57:28.119Z"
   },
   {
    "duration": 2879,
    "start_time": "2025-01-14T18:57:28.140Z"
   },
   {
    "duration": 3,
    "start_time": "2025-01-14T18:57:31.023Z"
   },
   {
    "duration": 12,
    "start_time": "2025-01-14T18:57:31.028Z"
   },
   {
    "duration": 8,
    "start_time": "2025-01-14T18:57:31.042Z"
   },
   {
    "duration": 9,
    "start_time": "2025-01-14T18:57:31.051Z"
   },
   {
    "duration": 65,
    "start_time": "2025-01-14T18:57:31.062Z"
   },
   {
    "duration": 64,
    "start_time": "2025-01-14T18:57:31.129Z"
   },
   {
    "duration": 57,
    "start_time": "2025-01-14T18:57:31.197Z"
   },
   {
    "duration": 4,
    "start_time": "2025-01-14T18:58:07.062Z"
   },
   {
    "duration": 5,
    "start_time": "2025-01-14T18:58:08.544Z"
   },
   {
    "duration": 3,
    "start_time": "2025-01-14T18:58:15.047Z"
   },
   {
    "duration": 3,
    "start_time": "2025-01-14T18:58:25.266Z"
   },
   {
    "duration": 16,
    "start_time": "2025-01-14T19:00:46.482Z"
   },
   {
    "duration": 20,
    "start_time": "2025-01-14T19:01:00.917Z"
   },
   {
    "duration": 6,
    "start_time": "2025-01-14T19:07:26.094Z"
   },
   {
    "duration": 3,
    "start_time": "2025-01-14T19:07:48.733Z"
   },
   {
    "duration": 3,
    "start_time": "2025-01-14T19:07:56.205Z"
   },
   {
    "duration": 3,
    "start_time": "2025-01-14T19:08:15.490Z"
   },
   {
    "duration": 26,
    "start_time": "2025-01-14T19:09:43.418Z"
   },
   {
    "duration": 23,
    "start_time": "2025-01-14T19:11:21.850Z"
   },
   {
    "duration": 4,
    "start_time": "2025-01-14T19:11:48.262Z"
   },
   {
    "duration": 3,
    "start_time": "2025-01-14T19:11:48.866Z"
   },
   {
    "duration": 98,
    "start_time": "2025-01-14T19:11:56.289Z"
   },
   {
    "duration": 3,
    "start_time": "2025-01-14T19:12:51.782Z"
   },
   {
    "duration": 9,
    "start_time": "2025-01-14T19:12:51.787Z"
   },
   {
    "duration": 4,
    "start_time": "2025-01-14T19:12:51.798Z"
   },
   {
    "duration": 8,
    "start_time": "2025-01-14T19:12:51.804Z"
   },
   {
    "duration": 9,
    "start_time": "2025-01-14T19:12:51.813Z"
   },
   {
    "duration": 3,
    "start_time": "2025-01-14T19:12:51.824Z"
   },
   {
    "duration": 8,
    "start_time": "2025-01-14T19:12:51.828Z"
   },
   {
    "duration": 6,
    "start_time": "2025-01-14T19:12:51.838Z"
   },
   {
    "duration": 47,
    "start_time": "2025-01-14T19:12:51.845Z"
   },
   {
    "duration": 15,
    "start_time": "2025-01-14T19:12:51.895Z"
   },
   {
    "duration": 2724,
    "start_time": "2025-01-14T19:12:51.911Z"
   },
   {
    "duration": 5,
    "start_time": "2025-01-14T19:12:54.637Z"
   },
   {
    "duration": 3,
    "start_time": "2025-01-14T19:12:54.644Z"
   },
   {
    "duration": 9,
    "start_time": "2025-01-14T19:12:54.649Z"
   },
   {
    "duration": 29,
    "start_time": "2025-01-14T19:12:54.660Z"
   },
   {
    "duration": 46,
    "start_time": "2025-01-14T19:12:54.691Z"
   },
   {
    "duration": 62,
    "start_time": "2025-01-14T19:12:54.739Z"
   },
   {
    "duration": 3,
    "start_time": "2025-01-14T19:12:54.803Z"
   },
   {
    "duration": 5,
    "start_time": "2025-01-14T19:12:54.808Z"
   },
   {
    "duration": 2,
    "start_time": "2025-01-14T19:12:54.815Z"
   },
   {
    "duration": 3,
    "start_time": "2025-01-14T19:12:54.819Z"
   },
   {
    "duration": 18,
    "start_time": "2025-01-14T19:12:54.824Z"
   },
   {
    "duration": 4,
    "start_time": "2025-01-14T19:12:54.844Z"
   },
   {
    "duration": 39,
    "start_time": "2025-01-14T19:12:54.850Z"
   },
   {
    "duration": 3,
    "start_time": "2025-01-14T19:12:54.894Z"
   },
   {
    "duration": 100,
    "start_time": "2025-01-14T19:12:54.898Z"
   },
   {
    "duration": 981,
    "start_time": "2025-01-14T19:15:12.023Z"
   },
   {
    "duration": 7,
    "start_time": "2025-01-14T19:15:13.006Z"
   },
   {
    "duration": 3,
    "start_time": "2025-01-14T19:15:13.014Z"
   },
   {
    "duration": 11,
    "start_time": "2025-01-14T19:15:13.019Z"
   },
   {
    "duration": 8,
    "start_time": "2025-01-14T19:15:13.032Z"
   },
   {
    "duration": 3,
    "start_time": "2025-01-14T19:15:13.042Z"
   },
   {
    "duration": 8,
    "start_time": "2025-01-14T19:15:13.046Z"
   },
   {
    "duration": 34,
    "start_time": "2025-01-14T19:15:13.056Z"
   },
   {
    "duration": 5,
    "start_time": "2025-01-14T19:15:13.092Z"
   },
   {
    "duration": 19,
    "start_time": "2025-01-14T19:15:13.100Z"
   },
   {
    "duration": 2634,
    "start_time": "2025-01-14T19:15:13.121Z"
   },
   {
    "duration": 3,
    "start_time": "2025-01-14T19:15:15.757Z"
   },
   {
    "duration": 5,
    "start_time": "2025-01-14T19:15:15.762Z"
   },
   {
    "duration": 9,
    "start_time": "2025-01-14T19:15:15.769Z"
   },
   {
    "duration": 7,
    "start_time": "2025-01-14T19:15:15.780Z"
   },
   {
    "duration": 46,
    "start_time": "2025-01-14T19:15:15.789Z"
   },
   {
    "duration": 60,
    "start_time": "2025-01-14T19:15:15.836Z"
   },
   {
    "duration": 3,
    "start_time": "2025-01-14T19:15:15.898Z"
   },
   {
    "duration": 5,
    "start_time": "2025-01-14T19:15:15.903Z"
   },
   {
    "duration": 3,
    "start_time": "2025-01-14T19:15:15.910Z"
   },
   {
    "duration": 3,
    "start_time": "2025-01-14T19:15:15.914Z"
   },
   {
    "duration": 19,
    "start_time": "2025-01-14T19:15:15.919Z"
   },
   {
    "duration": 4,
    "start_time": "2025-01-14T19:15:15.939Z"
   },
   {
    "duration": 4,
    "start_time": "2025-01-14T19:15:15.945Z"
   },
   {
    "duration": 37,
    "start_time": "2025-01-14T19:15:15.950Z"
   },
   {
    "duration": 10,
    "start_time": "2025-01-14T19:15:15.989Z"
   },
   {
    "duration": 3,
    "start_time": "2025-01-14T19:15:16.000Z"
   },
   {
    "duration": 3,
    "start_time": "2025-01-14T19:15:16.008Z"
   },
   {
    "duration": 2,
    "start_time": "2025-01-14T19:15:16.013Z"
   },
   {
    "duration": 251,
    "start_time": "2025-01-14T19:41:03.006Z"
   },
   {
    "duration": 3,
    "start_time": "2025-01-14T19:42:41.942Z"
   },
   {
    "duration": 62,
    "start_time": "2025-01-14T20:18:46.237Z"
   },
   {
    "duration": 24,
    "start_time": "2025-01-14T20:19:38.931Z"
   },
   {
    "duration": 21,
    "start_time": "2025-01-14T20:19:48.631Z"
   },
   {
    "duration": 3,
    "start_time": "2025-01-14T20:41:53.083Z"
   },
   {
    "duration": 7,
    "start_time": "2025-01-14T20:42:02.375Z"
   },
   {
    "duration": 4,
    "start_time": "2025-01-14T20:42:25.430Z"
   },
   {
    "duration": 4,
    "start_time": "2025-01-14T20:42:50.511Z"
   },
   {
    "duration": 26,
    "start_time": "2025-01-14T20:44:29.317Z"
   },
   {
    "duration": 6,
    "start_time": "2025-01-14T20:48:53.253Z"
   },
   {
    "duration": 7,
    "start_time": "2025-01-14T21:56:47.776Z"
   },
   {
    "duration": 20,
    "start_time": "2025-01-14T21:59:20.733Z"
   },
   {
    "duration": 1256,
    "start_time": "2025-01-14T22:00:17.875Z"
   },
   {
    "duration": 11,
    "start_time": "2025-01-14T22:00:19.134Z"
   },
   {
    "duration": 4,
    "start_time": "2025-01-14T22:00:19.151Z"
   },
   {
    "duration": 13,
    "start_time": "2025-01-14T22:00:19.157Z"
   },
   {
    "duration": 11,
    "start_time": "2025-01-14T22:00:19.187Z"
   },
   {
    "duration": 3,
    "start_time": "2025-01-14T22:00:19.200Z"
   },
   {
    "duration": 10,
    "start_time": "2025-01-14T22:00:19.204Z"
   },
   {
    "duration": 5,
    "start_time": "2025-01-14T22:00:19.216Z"
   },
   {
    "duration": 7,
    "start_time": "2025-01-14T22:00:19.224Z"
   },
   {
    "duration": 19,
    "start_time": "2025-01-14T22:00:19.233Z"
   },
   {
    "duration": 3491,
    "start_time": "2025-01-14T22:00:19.254Z"
   },
   {
    "duration": 4,
    "start_time": "2025-01-14T22:00:22.747Z"
   },
   {
    "duration": 4,
    "start_time": "2025-01-14T22:00:22.753Z"
   },
   {
    "duration": 10,
    "start_time": "2025-01-14T22:00:22.759Z"
   },
   {
    "duration": 8,
    "start_time": "2025-01-14T22:00:22.771Z"
   },
   {
    "duration": 79,
    "start_time": "2025-01-14T22:00:22.789Z"
   },
   {
    "duration": 80,
    "start_time": "2025-01-14T22:00:22.871Z"
   },
   {
    "duration": 4,
    "start_time": "2025-01-14T22:00:22.953Z"
   },
   {
    "duration": 5,
    "start_time": "2025-01-14T22:00:22.959Z"
   },
   {
    "duration": 3,
    "start_time": "2025-01-14T22:00:22.966Z"
   },
   {
    "duration": 16,
    "start_time": "2025-01-14T22:00:22.972Z"
   },
   {
    "duration": 28,
    "start_time": "2025-01-14T22:00:22.990Z"
   },
   {
    "duration": 7,
    "start_time": "2025-01-14T22:00:23.020Z"
   },
   {
    "duration": 4,
    "start_time": "2025-01-14T22:00:23.030Z"
   },
   {
    "duration": 3,
    "start_time": "2025-01-14T22:00:23.036Z"
   },
   {
    "duration": 56,
    "start_time": "2025-01-14T22:00:23.041Z"
   },
   {
    "duration": 6,
    "start_time": "2025-01-14T22:00:23.103Z"
   },
   {
    "duration": 4,
    "start_time": "2025-01-14T22:00:23.112Z"
   },
   {
    "duration": 4,
    "start_time": "2025-01-14T22:00:23.119Z"
   },
   {
    "duration": 6,
    "start_time": "2025-01-14T22:00:23.126Z"
   },
   {
    "duration": 5,
    "start_time": "2025-01-14T22:00:23.134Z"
   },
   {
    "duration": 13,
    "start_time": "2025-01-14T22:00:23.146Z"
   },
   {
    "duration": 12,
    "start_time": "2025-01-14T22:00:23.189Z"
   },
   {
    "duration": 7,
    "start_time": "2025-01-14T22:00:23.204Z"
   },
   {
    "duration": 629,
    "start_time": "2025-01-14T22:00:23.214Z"
   },
   {
    "duration": 27,
    "start_time": "2025-01-14T22:00:54.883Z"
   },
   {
    "duration": 4,
    "start_time": "2025-01-14T22:08:10.681Z"
   },
   {
    "duration": 7,
    "start_time": "2025-01-14T22:08:10.687Z"
   },
   {
    "duration": 3,
    "start_time": "2025-01-14T22:08:10.696Z"
   },
   {
    "duration": 9,
    "start_time": "2025-01-14T22:08:10.701Z"
   },
   {
    "duration": 9,
    "start_time": "2025-01-14T22:08:10.711Z"
   },
   {
    "duration": 3,
    "start_time": "2025-01-14T22:08:10.721Z"
   },
   {
    "duration": 9,
    "start_time": "2025-01-14T22:08:10.726Z"
   },
   {
    "duration": 5,
    "start_time": "2025-01-14T22:08:10.737Z"
   },
   {
    "duration": 5,
    "start_time": "2025-01-14T22:08:10.786Z"
   },
   {
    "duration": 16,
    "start_time": "2025-01-14T22:08:10.792Z"
   },
   {
    "duration": 2723,
    "start_time": "2025-01-14T22:08:10.810Z"
   },
   {
    "duration": 2,
    "start_time": "2025-01-14T22:08:13.535Z"
   },
   {
    "duration": 5,
    "start_time": "2025-01-14T22:08:13.539Z"
   },
   {
    "duration": 11,
    "start_time": "2025-01-14T22:08:13.547Z"
   },
   {
    "duration": 8,
    "start_time": "2025-01-14T22:08:13.561Z"
   },
   {
    "duration": 50,
    "start_time": "2025-01-14T22:08:13.588Z"
   },
   {
    "duration": 206,
    "start_time": "2025-01-14T22:08:13.640Z"
   },
   {
    "duration": 10,
    "start_time": "2025-01-14T22:08:13.848Z"
   },
   {
    "duration": 7,
    "start_time": "2025-01-14T22:08:13.861Z"
   },
   {
    "duration": 7,
    "start_time": "2025-01-14T22:08:13.873Z"
   },
   {
    "duration": 3,
    "start_time": "2025-01-14T22:08:13.888Z"
   },
   {
    "duration": 30,
    "start_time": "2025-01-14T22:08:13.893Z"
   },
   {
    "duration": 5,
    "start_time": "2025-01-14T22:08:13.925Z"
   },
   {
    "duration": 3,
    "start_time": "2025-01-14T22:08:13.934Z"
   },
   {
    "duration": 4,
    "start_time": "2025-01-14T22:08:13.939Z"
   },
   {
    "duration": 8,
    "start_time": "2025-01-14T22:08:13.944Z"
   },
   {
    "duration": 7,
    "start_time": "2025-01-14T22:08:13.990Z"
   },
   {
    "duration": 3,
    "start_time": "2025-01-14T22:08:14.001Z"
   },
   {
    "duration": 4,
    "start_time": "2025-01-14T22:08:14.007Z"
   },
   {
    "duration": 74,
    "start_time": "2025-01-14T22:08:14.014Z"
   },
   {
    "duration": 6,
    "start_time": "2025-01-14T22:08:14.091Z"
   },
   {
    "duration": 5,
    "start_time": "2025-01-14T22:08:14.099Z"
   },
   {
    "duration": 6,
    "start_time": "2025-01-14T22:08:14.106Z"
   },
   {
    "duration": 6,
    "start_time": "2025-01-14T22:08:14.113Z"
   },
   {
    "duration": 102,
    "start_time": "2025-01-14T22:08:14.187Z"
   },
   {
    "duration": 11,
    "start_time": "2025-01-14T22:09:13.518Z"
   },
   {
    "duration": 2799,
    "start_time": "2025-01-16T23:27:54.095Z"
   },
   {
    "duration": 18,
    "start_time": "2025-01-16T23:27:56.896Z"
   },
   {
    "duration": 3,
    "start_time": "2025-01-16T23:27:56.915Z"
   },
   {
    "duration": 11,
    "start_time": "2025-01-16T23:27:56.920Z"
   },
   {
    "duration": 9,
    "start_time": "2025-01-16T23:27:56.933Z"
   },
   {
    "duration": 3,
    "start_time": "2025-01-16T23:27:56.944Z"
   },
   {
    "duration": 7,
    "start_time": "2025-01-16T23:27:56.949Z"
   },
   {
    "duration": 5,
    "start_time": "2025-01-16T23:27:56.958Z"
   },
   {
    "duration": 42,
    "start_time": "2025-01-16T23:27:56.964Z"
   },
   {
    "duration": 16,
    "start_time": "2025-01-16T23:27:57.007Z"
   },
   {
    "duration": 2661,
    "start_time": "2025-01-16T23:27:57.025Z"
   },
   {
    "duration": 3,
    "start_time": "2025-01-16T23:27:59.688Z"
   },
   {
    "duration": 4,
    "start_time": "2025-01-16T23:27:59.693Z"
   },
   {
    "duration": 10,
    "start_time": "2025-01-16T23:27:59.701Z"
   },
   {
    "duration": 9,
    "start_time": "2025-01-16T23:27:59.713Z"
   },
   {
    "duration": 52,
    "start_time": "2025-01-16T23:27:59.725Z"
   },
   {
    "duration": 65,
    "start_time": "2025-01-16T23:27:59.780Z"
   },
   {
    "duration": 3,
    "start_time": "2025-01-16T23:27:59.847Z"
   },
   {
    "duration": 5,
    "start_time": "2025-01-16T23:27:59.852Z"
   },
   {
    "duration": 590,
    "start_time": "2025-01-16T23:27:59.859Z"
   },
   {
    "duration": 0,
    "start_time": "2025-01-16T23:28:00.451Z"
   },
   {
    "duration": 1,
    "start_time": "2025-01-16T23:28:00.452Z"
   },
   {
    "duration": 0,
    "start_time": "2025-01-16T23:28:00.454Z"
   },
   {
    "duration": 5,
    "start_time": "2025-01-16T23:28:44.384Z"
   },
   {
    "duration": 6,
    "start_time": "2025-01-16T23:28:45.527Z"
   },
   {
    "duration": 51,
    "start_time": "2025-01-16T23:28:46.538Z"
   },
   {
    "duration": 4,
    "start_time": "2025-01-16T23:30:12.372Z"
   },
   {
    "duration": 9,
    "start_time": "2025-01-16T23:30:12.378Z"
   },
   {
    "duration": 3,
    "start_time": "2025-01-16T23:30:12.389Z"
   },
   {
    "duration": 9,
    "start_time": "2025-01-16T23:30:12.394Z"
   },
   {
    "duration": 8,
    "start_time": "2025-01-16T23:30:12.405Z"
   },
   {
    "duration": 3,
    "start_time": "2025-01-16T23:30:12.415Z"
   },
   {
    "duration": 11,
    "start_time": "2025-01-16T23:30:12.421Z"
   },
   {
    "duration": 11,
    "start_time": "2025-01-16T23:30:12.436Z"
   },
   {
    "duration": 8,
    "start_time": "2025-01-16T23:30:12.449Z"
   },
   {
    "duration": 16,
    "start_time": "2025-01-16T23:30:12.460Z"
   },
   {
    "duration": 2515,
    "start_time": "2025-01-16T23:30:12.478Z"
   },
   {
    "duration": 10,
    "start_time": "2025-01-16T23:30:14.995Z"
   },
   {
    "duration": 4,
    "start_time": "2025-01-16T23:30:15.007Z"
   },
   {
    "duration": 9,
    "start_time": "2025-01-16T23:30:15.012Z"
   },
   {
    "duration": 9,
    "start_time": "2025-01-16T23:30:15.022Z"
   },
   {
    "duration": 46,
    "start_time": "2025-01-16T23:30:15.032Z"
   },
   {
    "duration": 216,
    "start_time": "2025-01-16T23:30:15.080Z"
   },
   {
    "duration": 4,
    "start_time": "2025-01-16T23:30:15.306Z"
   },
   {
    "duration": 4,
    "start_time": "2025-01-16T23:30:15.312Z"
   },
   {
    "duration": 3,
    "start_time": "2025-01-16T23:30:15.318Z"
   },
   {
    "duration": 6,
    "start_time": "2025-01-16T23:30:15.322Z"
   },
   {
    "duration": 421,
    "start_time": "2025-01-16T23:30:15.330Z"
   },
   {
    "duration": 3,
    "start_time": "2025-01-16T23:30:15.752Z"
   },
   {
    "duration": 142,
    "start_time": "2025-01-16T23:31:11.682Z"
   },
   {
    "duration": 3,
    "start_time": "2025-01-16T23:31:48.396Z"
   },
   {
    "duration": 3,
    "start_time": "2025-01-16T23:31:49.014Z"
   },
   {
    "duration": 6,
    "start_time": "2025-01-16T23:33:57.180Z"
   },
   {
    "duration": 18,
    "start_time": "2025-01-16T23:34:06.756Z"
   },
   {
    "duration": 24,
    "start_time": "2025-01-16T23:34:40.193Z"
   },
   {
    "duration": 3,
    "start_time": "2025-01-16T23:34:49.035Z"
   },
   {
    "duration": 8,
    "start_time": "2025-01-16T23:34:49.041Z"
   },
   {
    "duration": 3,
    "start_time": "2025-01-16T23:34:49.053Z"
   },
   {
    "duration": 9,
    "start_time": "2025-01-16T23:34:49.059Z"
   },
   {
    "duration": 8,
    "start_time": "2025-01-16T23:34:49.070Z"
   },
   {
    "duration": 3,
    "start_time": "2025-01-16T23:34:49.080Z"
   },
   {
    "duration": 8,
    "start_time": "2025-01-16T23:34:49.084Z"
   },
   {
    "duration": 12,
    "start_time": "2025-01-16T23:34:49.094Z"
   },
   {
    "duration": 5,
    "start_time": "2025-01-16T23:34:49.108Z"
   },
   {
    "duration": 15,
    "start_time": "2025-01-16T23:34:49.114Z"
   },
   {
    "duration": 2526,
    "start_time": "2025-01-16T23:34:49.133Z"
   },
   {
    "duration": 3,
    "start_time": "2025-01-16T23:34:51.661Z"
   },
   {
    "duration": 4,
    "start_time": "2025-01-16T23:34:51.666Z"
   },
   {
    "duration": 9,
    "start_time": "2025-01-16T23:34:51.671Z"
   },
   {
    "duration": 29,
    "start_time": "2025-01-16T23:34:51.681Z"
   },
   {
    "duration": 46,
    "start_time": "2025-01-16T23:34:51.712Z"
   },
   {
    "duration": 197,
    "start_time": "2025-01-16T23:34:51.759Z"
   },
   {
    "duration": 3,
    "start_time": "2025-01-16T23:34:51.957Z"
   },
   {
    "duration": 4,
    "start_time": "2025-01-16T23:34:51.962Z"
   },
   {
    "duration": 3,
    "start_time": "2025-01-16T23:34:51.968Z"
   },
   {
    "duration": 32,
    "start_time": "2025-01-16T23:34:51.973Z"
   },
   {
    "duration": 444,
    "start_time": "2025-01-16T23:34:52.007Z"
   },
   {
    "duration": 113,
    "start_time": "2025-01-16T23:34:52.455Z"
   },
   {
    "duration": 5,
    "start_time": "2025-01-16T23:34:52.570Z"
   },
   {
    "duration": 3,
    "start_time": "2025-01-16T23:34:52.576Z"
   },
   {
    "duration": 34,
    "start_time": "2025-01-16T23:34:52.581Z"
   },
   {
    "duration": 4,
    "start_time": "2025-01-16T23:34:52.619Z"
   },
   {
    "duration": 3,
    "start_time": "2025-01-16T23:34:52.625Z"
   },
   {
    "duration": 20,
    "start_time": "2025-01-16T23:34:52.632Z"
   },
   {
    "duration": 15,
    "start_time": "2025-01-16T23:35:15.744Z"
   },
   {
    "duration": 7,
    "start_time": "2025-01-16T23:39:30.808Z"
   },
   {
    "duration": 9,
    "start_time": "2025-01-16T23:39:35.653Z"
   },
   {
    "duration": 36,
    "start_time": "2025-01-17T00:04:54.090Z"
   },
   {
    "duration": 4,
    "start_time": "2025-01-17T00:05:06.130Z"
   },
   {
    "duration": 11,
    "start_time": "2025-01-17T00:05:06.876Z"
   },
   {
    "duration": 13,
    "start_time": "2025-01-17T00:06:41.266Z"
   },
   {
    "duration": 30,
    "start_time": "2025-01-17T00:07:00.671Z"
   },
   {
    "duration": 11,
    "start_time": "2025-01-17T00:07:06.610Z"
   },
   {
    "duration": 14,
    "start_time": "2025-01-17T00:56:50.447Z"
   },
   {
    "duration": 10,
    "start_time": "2025-01-17T01:01:13.739Z"
   },
   {
    "duration": 2791,
    "start_time": "2025-01-17T15:31:01.891Z"
   },
   {
    "duration": 15,
    "start_time": "2025-01-17T15:31:04.685Z"
   },
   {
    "duration": 3,
    "start_time": "2025-01-17T15:31:04.701Z"
   },
   {
    "duration": 10,
    "start_time": "2025-01-17T15:31:04.706Z"
   },
   {
    "duration": 8,
    "start_time": "2025-01-17T15:31:04.718Z"
   },
   {
    "duration": 3,
    "start_time": "2025-01-17T15:31:04.728Z"
   },
   {
    "duration": 8,
    "start_time": "2025-01-17T15:31:04.733Z"
   },
   {
    "duration": 30,
    "start_time": "2025-01-17T15:31:04.742Z"
   },
   {
    "duration": 5,
    "start_time": "2025-01-17T15:31:04.773Z"
   },
   {
    "duration": 18,
    "start_time": "2025-01-17T15:31:04.780Z"
   },
   {
    "duration": 2546,
    "start_time": "2025-01-17T15:31:04.800Z"
   },
   {
    "duration": 6,
    "start_time": "2025-01-17T15:31:07.348Z"
   },
   {
    "duration": 4,
    "start_time": "2025-01-17T15:31:07.356Z"
   },
   {
    "duration": 85,
    "start_time": "2025-01-17T15:31:07.364Z"
   },
   {
    "duration": 9,
    "start_time": "2025-01-17T15:31:07.450Z"
   },
   {
    "duration": 46,
    "start_time": "2025-01-17T15:31:07.470Z"
   },
   {
    "duration": 59,
    "start_time": "2025-01-17T15:31:07.518Z"
   },
   {
    "duration": 3,
    "start_time": "2025-01-17T15:31:07.578Z"
   },
   {
    "duration": 5,
    "start_time": "2025-01-17T15:31:07.583Z"
   },
   {
    "duration": 4,
    "start_time": "2025-01-17T15:31:07.590Z"
   },
   {
    "duration": 5,
    "start_time": "2025-01-17T15:31:07.595Z"
   },
   {
    "duration": 583,
    "start_time": "2025-01-17T15:31:07.602Z"
   },
   {
    "duration": 121,
    "start_time": "2025-01-17T15:31:08.187Z"
   },
   {
    "duration": 3,
    "start_time": "2025-01-17T15:31:08.310Z"
   },
   {
    "duration": 4,
    "start_time": "2025-01-17T15:31:08.314Z"
   },
   {
    "duration": 22,
    "start_time": "2025-01-17T15:31:08.320Z"
   },
   {
    "duration": 27,
    "start_time": "2025-01-17T15:31:08.344Z"
   },
   {
    "duration": 3,
    "start_time": "2025-01-17T15:31:08.373Z"
   },
   {
    "duration": 8,
    "start_time": "2025-01-17T15:31:08.378Z"
   },
   {
    "duration": 3,
    "start_time": "2025-01-17T15:31:08.388Z"
   },
   {
    "duration": 4,
    "start_time": "2025-01-17T15:31:08.393Z"
   },
   {
    "duration": 7,
    "start_time": "2025-01-17T17:06:12.098Z"
   },
   {
    "duration": 11,
    "start_time": "2025-01-19T19:55:19.539Z"
   },
   {
    "duration": 6,
    "start_time": "2025-01-19T20:25:35.467Z"
   },
   {
    "duration": 7,
    "start_time": "2025-01-19T23:29:16.322Z"
   },
   {
    "duration": 2880,
    "start_time": "2025-01-20T09:07:23.123Z"
   },
   {
    "duration": 13,
    "start_time": "2025-01-20T09:07:26.005Z"
   },
   {
    "duration": 3,
    "start_time": "2025-01-20T09:07:26.023Z"
   },
   {
    "duration": 12,
    "start_time": "2025-01-20T09:07:26.030Z"
   },
   {
    "duration": 10,
    "start_time": "2025-01-20T09:07:26.044Z"
   },
   {
    "duration": 3,
    "start_time": "2025-01-20T09:07:26.057Z"
   },
   {
    "duration": 9,
    "start_time": "2025-01-20T09:07:26.062Z"
   },
   {
    "duration": 5,
    "start_time": "2025-01-20T09:07:26.073Z"
   },
   {
    "duration": 6,
    "start_time": "2025-01-20T09:07:26.080Z"
   },
   {
    "duration": 52,
    "start_time": "2025-01-20T09:07:26.089Z"
   },
   {
    "duration": 2846,
    "start_time": "2025-01-20T09:07:26.142Z"
   },
   {
    "duration": 3,
    "start_time": "2025-01-20T09:07:28.990Z"
   },
   {
    "duration": 5,
    "start_time": "2025-01-20T09:07:28.994Z"
   },
   {
    "duration": 9,
    "start_time": "2025-01-20T09:07:29.001Z"
   },
   {
    "duration": 14,
    "start_time": "2025-01-20T09:07:29.011Z"
   },
   {
    "duration": 141,
    "start_time": "2025-01-20T09:07:29.028Z"
   },
   {
    "duration": 56,
    "start_time": "2025-01-20T09:07:29.171Z"
   },
   {
    "duration": 4,
    "start_time": "2025-01-20T09:07:29.229Z"
   },
   {
    "duration": 5,
    "start_time": "2025-01-20T09:07:29.234Z"
   },
   {
    "duration": 3,
    "start_time": "2025-01-20T09:07:29.241Z"
   },
   {
    "duration": 6,
    "start_time": "2025-01-20T09:07:29.245Z"
   },
   {
    "duration": 654,
    "start_time": "2025-01-20T09:07:29.253Z"
   },
   {
    "duration": 139,
    "start_time": "2025-01-20T09:07:29.911Z"
   },
   {
    "duration": 3,
    "start_time": "2025-01-20T09:07:30.052Z"
   },
   {
    "duration": 4,
    "start_time": "2025-01-20T09:07:30.057Z"
   },
   {
    "duration": 20,
    "start_time": "2025-01-20T09:07:30.063Z"
   },
   {
    "duration": 3,
    "start_time": "2025-01-20T09:07:30.691Z"
   },
   {
    "duration": 3,
    "start_time": "2025-01-20T09:07:31.169Z"
   },
   {
    "duration": 37,
    "start_time": "2025-01-20T09:07:31.324Z"
   },
   {
    "duration": 3,
    "start_time": "2025-01-20T09:07:31.467Z"
   },
   {
    "duration": 4,
    "start_time": "2025-01-20T09:07:31.620Z"
   },
   {
    "duration": 11,
    "start_time": "2025-01-20T09:07:32.537Z"
   },
   {
    "duration": 3,
    "start_time": "2025-01-20T09:07:32.704Z"
   },
   {
    "duration": 3,
    "start_time": "2025-01-20T09:07:33.389Z"
   },
   {
    "duration": 4,
    "start_time": "2025-01-20T09:07:33.543Z"
   },
   {
    "duration": 7,
    "start_time": "2025-01-20T09:07:33.855Z"
   },
   {
    "duration": 4,
    "start_time": "2025-01-20T09:07:34.586Z"
   },
   {
    "duration": 6,
    "start_time": "2025-01-20T09:07:34.890Z"
   },
   {
    "duration": 6,
    "start_time": "2025-01-20T09:09:13.955Z"
   },
   {
    "duration": 6,
    "start_time": "2025-01-20T09:10:28.063Z"
   },
   {
    "duration": 6,
    "start_time": "2025-01-20T09:12:04.315Z"
   },
   {
    "duration": 6,
    "start_time": "2025-01-20T09:16:46.058Z"
   },
   {
    "duration": 4,
    "start_time": "2025-01-20T09:17:26.582Z"
   },
   {
    "duration": 8,
    "start_time": "2025-01-20T13:23:09.710Z"
   },
   {
    "duration": 14,
    "start_time": "2025-01-20T22:43:21.587Z"
   },
   {
    "duration": 2780,
    "start_time": "2025-01-20T22:57:54.993Z"
   },
   {
    "duration": 14,
    "start_time": "2025-01-20T22:57:57.775Z"
   },
   {
    "duration": 4,
    "start_time": "2025-01-20T22:57:57.791Z"
   },
   {
    "duration": 10,
    "start_time": "2025-01-20T22:57:57.797Z"
   },
   {
    "duration": 8,
    "start_time": "2025-01-20T22:57:57.810Z"
   },
   {
    "duration": 5,
    "start_time": "2025-01-20T22:57:57.833Z"
   },
   {
    "duration": 10,
    "start_time": "2025-01-20T22:57:57.840Z"
   },
   {
    "duration": 5,
    "start_time": "2025-01-20T22:57:57.852Z"
   },
   {
    "duration": 5,
    "start_time": "2025-01-20T22:57:57.858Z"
   },
   {
    "duration": 16,
    "start_time": "2025-01-20T22:57:57.865Z"
   },
   {
    "duration": 2733,
    "start_time": "2025-01-20T22:57:57.883Z"
   },
   {
    "duration": 3,
    "start_time": "2025-01-20T22:58:00.618Z"
   },
   {
    "duration": 4,
    "start_time": "2025-01-20T22:58:00.623Z"
   },
   {
    "duration": 9,
    "start_time": "2025-01-20T22:58:00.632Z"
   },
   {
    "duration": 8,
    "start_time": "2025-01-20T22:58:00.643Z"
   },
   {
    "duration": 48,
    "start_time": "2025-01-20T22:58:00.653Z"
   },
   {
    "duration": 72,
    "start_time": "2025-01-20T22:58:00.703Z"
   },
   {
    "duration": 4,
    "start_time": "2025-01-20T22:58:00.777Z"
   },
   {
    "duration": 5,
    "start_time": "2025-01-20T22:58:00.782Z"
   },
   {
    "duration": 3,
    "start_time": "2025-01-20T22:58:00.789Z"
   },
   {
    "duration": 5,
    "start_time": "2025-01-20T22:58:00.794Z"
   },
   {
    "duration": 598,
    "start_time": "2025-01-20T22:58:00.800Z"
   },
   {
    "duration": 125,
    "start_time": "2025-01-20T22:58:01.400Z"
   },
   {
    "duration": 5,
    "start_time": "2025-01-20T22:58:01.527Z"
   },
   {
    "duration": 4,
    "start_time": "2025-01-20T22:58:01.533Z"
   },
   {
    "duration": 20,
    "start_time": "2025-01-20T22:58:01.539Z"
   },
   {
    "duration": 3,
    "start_time": "2025-01-20T22:58:01.561Z"
   },
   {
    "duration": 3,
    "start_time": "2025-01-20T22:58:01.566Z"
   },
   {
    "duration": 60,
    "start_time": "2025-01-20T22:58:01.571Z"
   },
   {
    "duration": 4,
    "start_time": "2025-01-20T22:58:01.633Z"
   },
   {
    "duration": 6,
    "start_time": "2025-01-20T22:58:01.639Z"
   },
   {
    "duration": 4,
    "start_time": "2025-01-20T22:58:01.647Z"
   },
   {
    "duration": 3,
    "start_time": "2025-01-20T22:58:01.652Z"
   },
   {
    "duration": 9,
    "start_time": "2025-01-20T22:58:01.733Z"
   },
   {
    "duration": 4,
    "start_time": "2025-01-20T22:58:01.744Z"
   },
   {
    "duration": 5,
    "start_time": "2025-01-20T22:58:01.749Z"
   },
   {
    "duration": 4,
    "start_time": "2025-01-20T22:58:01.756Z"
   },
   {
    "duration": 6,
    "start_time": "2025-01-20T22:58:01.832Z"
   },
   {
    "duration": 4,
    "start_time": "2025-01-20T22:58:01.841Z"
   },
   {
    "duration": 220,
    "start_time": "2025-01-20T22:58:01.847Z"
   },
   {
    "duration": 1099,
    "start_time": "2025-01-20T23:35:36.367Z"
   },
   {
    "duration": 9,
    "start_time": "2025-01-20T23:35:37.469Z"
   },
   {
    "duration": 3,
    "start_time": "2025-01-20T23:35:37.479Z"
   },
   {
    "duration": 21,
    "start_time": "2025-01-20T23:35:37.485Z"
   },
   {
    "duration": 8,
    "start_time": "2025-01-20T23:35:37.508Z"
   },
   {
    "duration": 3,
    "start_time": "2025-01-20T23:35:37.517Z"
   },
   {
    "duration": 7,
    "start_time": "2025-01-20T23:35:37.522Z"
   },
   {
    "duration": 4,
    "start_time": "2025-01-20T23:35:37.567Z"
   },
   {
    "duration": 6,
    "start_time": "2025-01-20T23:35:37.683Z"
   },
   {
    "duration": 17,
    "start_time": "2025-01-20T23:35:37.811Z"
   },
   {
    "duration": 2591,
    "start_time": "2025-01-20T23:35:38.451Z"
   },
   {
    "duration": 2,
    "start_time": "2025-01-20T23:35:41.044Z"
   },
   {
    "duration": 4,
    "start_time": "2025-01-20T23:35:41.048Z"
   },
   {
    "duration": 8,
    "start_time": "2025-01-20T23:35:41.054Z"
   },
   {
    "duration": 8,
    "start_time": "2025-01-20T23:35:41.064Z"
   },
   {
    "duration": 60,
    "start_time": "2025-01-20T23:35:41.073Z"
   },
   {
    "duration": 48,
    "start_time": "2025-01-20T23:35:41.135Z"
   },
   {
    "duration": 4,
    "start_time": "2025-01-20T23:35:41.403Z"
   },
   {
    "duration": 5,
    "start_time": "2025-01-20T23:35:41.539Z"
   },
   {
    "duration": 4,
    "start_time": "2025-01-20T23:35:41.674Z"
   },
   {
    "duration": 7,
    "start_time": "2025-01-20T23:35:41.815Z"
   },
   {
    "duration": 543,
    "start_time": "2025-01-20T23:35:41.951Z"
   },
   {
    "duration": 131,
    "start_time": "2025-01-20T23:35:42.496Z"
   },
   {
    "duration": 3,
    "start_time": "2025-01-20T23:35:42.629Z"
   },
   {
    "duration": 11,
    "start_time": "2025-01-20T23:35:42.634Z"
   },
   {
    "duration": 19,
    "start_time": "2025-01-20T23:35:42.648Z"
   },
   {
    "duration": 4,
    "start_time": "2025-01-20T23:35:44.497Z"
   },
   {
    "duration": 5,
    "start_time": "2025-01-20T23:35:44.733Z"
   },
   {
    "duration": 8,
    "start_time": "2025-01-20T23:35:44.865Z"
   },
   {
    "duration": 4,
    "start_time": "2025-01-20T23:35:45.006Z"
   },
   {
    "duration": 6,
    "start_time": "2025-01-20T23:35:45.146Z"
   },
   {
    "duration": 3,
    "start_time": "2025-01-20T23:35:46.197Z"
   },
   {
    "duration": 3,
    "start_time": "2025-01-20T23:35:46.335Z"
   },
   {
    "duration": 3,
    "start_time": "2025-01-20T23:35:46.623Z"
   },
   {
    "duration": 4,
    "start_time": "2025-01-20T23:35:46.957Z"
   },
   {
    "duration": 5,
    "start_time": "2025-01-20T23:35:47.237Z"
   },
   {
    "duration": 4,
    "start_time": "2025-01-20T23:35:47.959Z"
   },
   {
    "duration": 7,
    "start_time": "2025-01-20T23:35:48.243Z"
   },
   {
    "duration": 2910,
    "start_time": "2025-04-19T20:36:42.502Z"
   },
   {
    "duration": 13,
    "start_time": "2025-04-19T20:36:45.415Z"
   },
   {
    "duration": 3,
    "start_time": "2025-04-19T20:36:45.430Z"
   },
   {
    "duration": 10,
    "start_time": "2025-04-19T20:36:45.435Z"
   },
   {
    "duration": 24,
    "start_time": "2025-04-19T20:36:45.447Z"
   },
   {
    "duration": 3,
    "start_time": "2025-04-19T20:36:45.472Z"
   },
   {
    "duration": 8,
    "start_time": "2025-04-19T20:36:45.476Z"
   },
   {
    "duration": 5,
    "start_time": "2025-04-19T20:36:45.485Z"
   },
   {
    "duration": 5,
    "start_time": "2025-04-19T20:36:45.492Z"
   },
   {
    "duration": 16,
    "start_time": "2025-04-19T20:36:45.498Z"
   },
   {
    "duration": 2539,
    "start_time": "2025-04-19T20:36:45.515Z"
   },
   {
    "duration": 3,
    "start_time": "2025-04-19T20:36:48.056Z"
   },
   {
    "duration": 4,
    "start_time": "2025-04-19T20:36:48.060Z"
   },
   {
    "duration": 9,
    "start_time": "2025-04-19T20:36:48.067Z"
   },
   {
    "duration": 8,
    "start_time": "2025-04-19T20:36:48.078Z"
   },
   {
    "duration": 45,
    "start_time": "2025-04-19T20:36:48.088Z"
   },
   {
    "duration": 62,
    "start_time": "2025-04-19T20:36:48.135Z"
   },
   {
    "duration": 3,
    "start_time": "2025-04-19T20:36:48.199Z"
   },
   {
    "duration": 6,
    "start_time": "2025-04-19T20:36:48.204Z"
   },
   {
    "duration": 4,
    "start_time": "2025-04-19T20:36:48.211Z"
   },
   {
    "duration": 6,
    "start_time": "2025-04-19T20:36:48.216Z"
   },
   {
    "duration": 577,
    "start_time": "2025-04-19T20:36:48.224Z"
   },
   {
    "duration": 115,
    "start_time": "2025-04-19T20:36:48.804Z"
   },
   {
    "duration": 3,
    "start_time": "2025-04-19T20:36:48.921Z"
   },
   {
    "duration": 4,
    "start_time": "2025-04-19T20:36:48.926Z"
   },
   {
    "duration": 20,
    "start_time": "2025-04-19T20:36:48.931Z"
   },
   {
    "duration": 21,
    "start_time": "2025-04-19T20:36:48.952Z"
   },
   {
    "duration": 4,
    "start_time": "2025-04-19T20:36:48.975Z"
   },
   {
    "duration": 7,
    "start_time": "2025-04-19T20:36:48.980Z"
   },
   {
    "duration": 3,
    "start_time": "2025-04-19T20:36:48.989Z"
   },
   {
    "duration": 5,
    "start_time": "2025-04-19T20:36:48.994Z"
   },
   {
    "duration": 4,
    "start_time": "2025-04-19T20:36:49.001Z"
   },
   {
    "duration": 3,
    "start_time": "2025-04-19T20:36:49.071Z"
   },
   {
    "duration": 4,
    "start_time": "2025-04-19T20:36:49.076Z"
   },
   {
    "duration": 6,
    "start_time": "2025-04-19T20:36:49.081Z"
   },
   {
    "duration": 7,
    "start_time": "2025-04-19T20:36:49.089Z"
   },
   {
    "duration": 74,
    "start_time": "2025-04-19T20:36:49.098Z"
   },
   {
    "duration": 7,
    "start_time": "2025-04-19T20:36:49.175Z"
   },
   {
    "duration": 4,
    "start_time": "2025-04-19T20:36:49.184Z"
   },
   {
    "duration": 234,
    "start_time": "2025-04-19T20:36:49.190Z"
   }
  ],
  "kernelspec": {
   "display_name": "Python 3 (ipykernel)",
   "language": "python",
   "name": "python3"
  },
  "language_info": {
   "codemirror_mode": {
    "name": "ipython",
    "version": 3
   },
   "file_extension": ".py",
   "mimetype": "text/x-python",
   "name": "python",
   "nbconvert_exporter": "python",
   "pygments_lexer": "ipython3",
   "version": "3.9.19"
  },
  "toc": {
   "base_numbering": 1,
   "nav_menu": {},
   "number_sections": true,
   "sideBar": true,
   "skip_h1_title": true,
   "title_cell": "Table of Contents",
   "title_sidebar": "Contents",
   "toc_cell": false,
   "toc_position": {},
   "toc_section_display": true,
   "toc_window_display": false
  }
 },
 "nbformat": 4,
 "nbformat_minor": 4
}
